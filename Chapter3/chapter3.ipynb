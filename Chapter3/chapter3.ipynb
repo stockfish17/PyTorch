{
 "cells": [
  {
   "cell_type": "markdown",
   "source": [
    "# 第三章 Tensor\n",
    "\n",
    "几乎所有的深度学习框架背后的设计核心都是张量和计算图，PyTorch也不例外，本章我们将学习PyTorch中的张量系统（Tensor）和自动微分系统（autograd）。\n",
    "\n",
    "## 3.1 Tensor基础\n",
    "\n",
    "Tensor，又名张量，读者可能对这个名词似曾相识，因为它不仅在PyTorch中出现过，它也是Theano、TensorFlow、Torch和MXNet中重要的数据结构。关于张量的本质不乏深度剖析的文章，但从工程角度讲，可简单地认为它就是一个数组，且支持高效的科学计算。它可以是一个数（标量）、一维数组（向量）、二维数组（矩阵）或更高维的数组（高阶数据）。Tensor和Numpy的ndarrays类似，但前者支持GPU加速。\n",
    "\n",
    "本节将系统讲解Tensor的使用，力求面面俱到，但不会涉及每个函数。对于更多函数及其用法，读者可通过在IPython/Notebook中使用函数名加`?`查看帮助文档，或查阅PyTorch官方文档。"
   ],
   "metadata": {}
  },
  {
   "cell_type": "code",
   "execution_count": 1,
   "source": [
    "# 查看PyTorch的版本号\r\n",
    "import torch as t\r\n",
    "t.__version__"
   ],
   "outputs": [
    {
     "output_type": "execute_result",
     "data": {
      "text/plain": [
       "'1.6.0'"
      ]
     },
     "metadata": {},
     "execution_count": 1
    }
   ],
   "metadata": {}
  },
  {
   "cell_type": "markdown",
   "source": [
    "### 3.1.1 Tensor 的基本操作\n",
    "\n",
    "学习过NumPy的读者会对本节内容感到非常熟悉，因为Tensor的接口设计得与Numpy类似，以方便用户使用。当然，若读者不熟悉Numpy也没关系，本节内容并不要求读者事先掌握Numpy。\n",
    "\n",
    "从接口的角度来讲，对Tensor的操作可分为两类：\n",
    "\n",
    "1. `torch.function`，如`torch.save`等。\n",
    "2. `tensor.function`，如`tensor.view`等。\n",
    "\n",
    "为方便使用，对Tensor的大部分操作同时支持这两类接口，在本书中不做具体区分，如`torch.sum(a, b)`与`a.sum(b)`功能等价。\n",
    "\n",
    "而从存储的角度来讲，对Tensor的操作又可分为两类：\n",
    "\n",
    "1. 不会修改自身的数据，如 `a.add(b)`， 加法的结果会返回一个新的Tensor。\n",
    "2. 会修改自身的数据，如 `a.add_(b)`， 加法的结果仍存储在a中，a被修改了。\n",
    "\n",
    "函数名以`_`结尾的都是inplace方式，即会修改调用者自己的数据，在实际应用中需加以区分。\n",
    "\n",
    "#### 创建Tensor\n",
    "\n",
    "在PyTorch中创建Tensor的方法有很多，具体如表3-1所示：\n",
    "\n",
    "表3-1: 常见创建Tensor的方法\n",
    "\n",
    "|函数|功能|\n",
    "|:---:|:---:|\n",
    "|Tensor(\\*sizes)|基础构造函数|\n",
    "|tensor(data,)|类似np.array的构造函数|\n",
    "|ones(\\*sizes)|全1的Tensor|\n",
    "|zeros(\\*sizes)|全0的Tensor|\n",
    "|eye(\\*sizes)|对角线为1，其他为0|\n",
    "|arange(s,e,step)|从s到e，步长为step|\n",
    "|linspace(s,e,steps)|从s到e，均匀切分成steps份|\n",
    "|rand / randn(\\*sizes)|均匀/标准分布|\n",
    "|normal(mean,std) / uniform(from,to)|正态分布/均匀分布|\n",
    "|randperm(m)|随机排列|\n",
    "|tensor.new_\\* / torch.\\*_like | 创建一个相同size大小，用*类型去填充（如tensor.new_ones就是使用全一的数据去填充）的张量，具有相同的torch.dtype和torch.device|\n",
    "\n",
    "这些创建方法都可以在创建的时候指定数据类型dtype和存放device(CPU/GPU)。\n",
    "\n",
    "使用`Tensor`函数新建Tensor可以接收一个list，并根据list的数据新建Tensor，同时也能根据指定的形状新建Tensor，还能传入其他的Tensor，下面将举几个例子说明。\n"
   ],
   "metadata": {}
  },
  {
   "cell_type": "code",
   "execution_count": 2,
   "source": [
    "# 指定Tensor的形状\r\n",
    "a = t.Tensor(2, 3)\r\n",
    "a # 数值取决于内存空间的状态，print时候可能overflow"
   ],
   "outputs": [
    {
     "output_type": "execute_result",
     "data": {
      "text/plain": [
       "tensor([[-8.9209e-11,  4.5846e-41, -8.9209e-11],\n",
       "        [ 4.5846e-41,  4.4400e-29,  3.0956e-41]])"
      ]
     },
     "metadata": {},
     "execution_count": 2
    }
   ],
   "metadata": {}
  },
  {
   "cell_type": "code",
   "execution_count": 3,
   "source": [
    "# 用list的数据创建Tensor\r\n",
    "b = t.Tensor([[1,2,3],[4,5,6]])\r\n",
    "b"
   ],
   "outputs": [
    {
     "output_type": "execute_result",
     "data": {
      "text/plain": [
       "tensor([[1., 2., 3.],\n",
       "        [4., 5., 6.]])"
      ]
     },
     "metadata": {},
     "execution_count": 3
    }
   ],
   "metadata": {}
  },
  {
   "cell_type": "code",
   "execution_count": 4,
   "source": [
    "b.tolist() # 把Tensor转为list"
   ],
   "outputs": [
    {
     "output_type": "execute_result",
     "data": {
      "text/plain": [
       "[[1.0, 2.0, 3.0], [4.0, 5.0, 6.0]]"
      ]
     },
     "metadata": {},
     "execution_count": 4
    }
   ],
   "metadata": {}
  },
  {
   "cell_type": "markdown",
   "source": [
    "`tensor.size()`返回`torch.Size`对象，它是tuple的子类，但其使用方式与tuple略有区别。"
   ],
   "metadata": {}
  },
  {
   "cell_type": "code",
   "execution_count": 5,
   "source": [
    "b_size = b.size()\r\n",
    "b_size"
   ],
   "outputs": [
    {
     "output_type": "execute_result",
     "data": {
      "text/plain": [
       "torch.Size([2, 3])"
      ]
     },
     "metadata": {},
     "execution_count": 5
    }
   ],
   "metadata": {}
  },
  {
   "cell_type": "code",
   "execution_count": 6,
   "source": [
    "# 统计b中元素总个数，2*3，两种方式等价\r\n",
    "b.numel(), b.nelement()"
   ],
   "outputs": [
    {
     "output_type": "execute_result",
     "data": {
      "text/plain": [
       "(6, 6)"
      ]
     },
     "metadata": {},
     "execution_count": 6
    }
   ],
   "metadata": {}
  },
  {
   "cell_type": "code",
   "execution_count": 7,
   "source": [
    "# 创建一个和b形状一样的Tensor c\r\n",
    "c = t.Tensor(b_size)\r\n",
    "# 创建一个元素为2和3的Tensor d\r\n",
    "d = t.Tensor((2, 3))\r\n",
    "c, d"
   ],
   "outputs": [
    {
     "output_type": "execute_result",
     "data": {
      "text/plain": [
       "(tensor([[0., 0., 0.],\n",
       "         [0., 0., 0.]]), tensor([2., 3.]))"
      ]
     },
     "metadata": {},
     "execution_count": 7
    }
   ],
   "metadata": {}
  },
  {
   "cell_type": "markdown",
   "source": [
    "需要注意的是，`t.Tensor(*sizes)`创建Tensor时，系统不会马上分配空间，只是会计算剩余的内存是否足够使用，在真正使用到Tensor时才会分配，而其它操作都是在创建完Tensor之后马上进行空间分配。在使用中，我们更推荐使用`torch.tensor`而非`torch.Tensor`。接下来比较一下两者的区别。\n",
    "\n",
    "`torch.Tensor`是Python类，并且默认是torch.FloatTensor()，运行`torch.Tensor([2,3])`会直接调用Tensor类的构造函数`__init__()`，生成结果是单精度浮点类型的Tensor（FloatTensor）。\n",
    "而`torch.tensor()`是一个Python函数，函数的原型为：`torch.tensor(data, dtype=None, device=None, requires_grad=False)`。其中`data`支持list、tuple、array、scalar等类型，`torch.tensor()`直接从`data`中做数据拷贝，并根据原数据类型生成相应的Tensor。\n",
    "\n",
    "由于`torch.tensor()`能够根据数据类型生成对应的Tensor，因此在实际应用中我们更加推荐使用`torch.tensor()`方法来创建一个新的Tensor。下面将举例说明二者的不同之处。"
   ],
   "metadata": {}
  },
  {
   "cell_type": "code",
   "execution_count": 8,
   "source": [
    "# torch.Tensor能直接创建空的张量\r\n",
    "t.Tensor()"
   ],
   "outputs": [
    {
     "output_type": "execute_result",
     "data": {
      "text/plain": [
       "tensor([])"
      ]
     },
     "metadata": {},
     "execution_count": 8
    }
   ],
   "metadata": {
    "pycharm": {
     "name": "#%%\n"
    }
   }
  },
  {
   "cell_type": "code",
   "execution_count": 9,
   "source": [
    "# torch.tensor不能直接创建空的张量，需要传入一个空的data\r\n",
    "# t.tensor() # TypeError: tensor() missing 1 required positional arguments: \"data\"\r\n",
    "t.tensor(())"
   ],
   "outputs": [
    {
     "output_type": "execute_result",
     "data": {
      "text/plain": [
       "tensor([])"
      ]
     },
     "metadata": {},
     "execution_count": 9
    }
   ],
   "metadata": {
    "pycharm": {
     "name": "#%%\n"
    }
   }
  },
  {
   "cell_type": "code",
   "execution_count": 10,
   "source": [
    "a = t.tensor([2,3])\r\n",
    "print(a.type())\r\n",
    "b = t.Tensor([2,3])\r\n",
    "print(b.type())"
   ],
   "outputs": [
    {
     "output_type": "stream",
     "name": "stdout",
     "text": [
      "torch.LongTensor\n",
      "torch.FloatTensor\n"
     ]
    }
   ],
   "metadata": {}
  },
  {
   "cell_type": "code",
   "execution_count": 11,
   "source": [
    "import numpy as np\r\n",
    "arr = np.ones((2, 3), dtype=np.float64)\r\n",
    "a = t.tensor(arr)\r\n",
    "a"
   ],
   "outputs": [
    {
     "output_type": "execute_result",
     "data": {
      "text/plain": [
       "tensor([[1., 1., 1.],\n",
       "        [1., 1., 1.]], dtype=torch.float64)"
      ]
     },
     "metadata": {},
     "execution_count": 11
    }
   ],
   "metadata": {}
  },
  {
   "cell_type": "markdown",
   "source": [
    "其它常用的创建Tensor方法举例如下。"
   ],
   "metadata": {}
  },
  {
   "cell_type": "code",
   "execution_count": 12,
   "source": [
    "# 创建一个形状是(2,3)值全为1的Tensor\r\n",
    "t.ones(2, 3)"
   ],
   "outputs": [
    {
     "output_type": "execute_result",
     "data": {
      "text/plain": [
       "tensor([[1., 1., 1.],\n",
       "        [1., 1., 1.]])"
      ]
     },
     "metadata": {},
     "execution_count": 12
    }
   ],
   "metadata": {}
  },
  {
   "cell_type": "markdown",
   "source": [
    "与`torch.ones()`类似的函数还有`torch.ones_like(input)`，输入`input`是一个Tensor，返回一个与之大小相同的全部填充为1的新Tensor。这意味着，`torch.ones_like(input)`等价于`torch.ones(input.size(), dtype=input.dtype, layout=input.layout, device=input.device)`。"
   ],
   "metadata": {}
  },
  {
   "cell_type": "code",
   "execution_count": 13,
   "source": [
    "input_tensor = t.tensor([[1, 2, 3], [4, 5, 6]])\r\n",
    "t.ones_like(input_tensor)"
   ],
   "outputs": [
    {
     "output_type": "execute_result",
     "data": {
      "text/plain": [
       "tensor([[1, 1, 1],\n",
       "        [1, 1, 1]])"
      ]
     },
     "metadata": {},
     "execution_count": 13
    }
   ],
   "metadata": {}
  },
  {
   "cell_type": "code",
   "execution_count": 14,
   "source": [
    "# 创建一个形状是(2,3)的全0的Tensor\r\n",
    "t.zeros(2, 3)"
   ],
   "outputs": [
    {
     "output_type": "execute_result",
     "data": {
      "text/plain": [
       "tensor([[0., 0., 0.],\n",
       "        [0., 0., 0.]])"
      ]
     },
     "metadata": {},
     "execution_count": 14
    }
   ],
   "metadata": {}
  },
  {
   "cell_type": "code",
   "execution_count": 15,
   "source": [
    "# 创建一个对角线为1，其余为0的Tensor,不要求行列数一致\r\n",
    "t.eye(2, 3, dtype=t.int)"
   ],
   "outputs": [
    {
     "output_type": "execute_result",
     "data": {
      "text/plain": [
       "tensor([[1, 0, 0],\n",
       "        [0, 1, 0]], dtype=torch.int32)"
      ]
     },
     "metadata": {},
     "execution_count": 15
    }
   ],
   "metadata": {}
  },
  {
   "cell_type": "code",
   "execution_count": 16,
   "source": [
    "# 创建一个起始值为1，上限为6，步长为2的Tensor\r\n",
    "t.arange(1, 6, 2)"
   ],
   "outputs": [
    {
     "output_type": "execute_result",
     "data": {
      "text/plain": [
       "tensor([1, 3, 5])"
      ]
     },
     "metadata": {},
     "execution_count": 16
    }
   ],
   "metadata": {}
  },
  {
   "cell_type": "code",
   "execution_count": 17,
   "source": [
    "# 创建一个均匀间距的Tensor，将1到10的数分为3份\r\n",
    "t.linspace(1, 10, 3)"
   ],
   "outputs": [
    {
     "output_type": "execute_result",
     "data": {
      "text/plain": [
       "tensor([ 1.0000,  5.5000, 10.0000])"
      ]
     },
     "metadata": {},
     "execution_count": 17
    }
   ],
   "metadata": {}
  },
  {
   "cell_type": "code",
   "execution_count": 18,
   "source": [
    "# 创建一个形状是(2,3)的Tensor，其取值为从标准正态分布中抽取的随机数\r\n",
    "t.randn(2, 3)"
   ],
   "outputs": [
    {
     "output_type": "execute_result",
     "data": {
      "text/plain": [
       "tensor([[ 1.3969, -1.5042, -0.8430],\n",
       "        [-0.8707, -1.0794, -1.3357]])"
      ]
     },
     "metadata": {},
     "execution_count": 18
    }
   ],
   "metadata": {}
  },
  {
   "cell_type": "code",
   "execution_count": 19,
   "source": [
    "# 创建一个长度为5的随机排列的Tensor\r\n",
    "t.randperm(5) "
   ],
   "outputs": [
    {
     "output_type": "execute_result",
     "data": {
      "text/plain": [
       "tensor([2, 4, 0, 3, 1])"
      ]
     },
     "metadata": {},
     "execution_count": 19
    }
   ],
   "metadata": {}
  },
  {
   "cell_type": "code",
   "execution_count": 20,
   "source": [
    "# 创建一个大小为(2，3)值全1的Tensor，保留原始的torch.dtype和torch.device\r\n",
    "tensor3 = t.tensor((), dtype=t.int32)\r\n",
    "tensor3.new_ones((2, 3))"
   ],
   "outputs": [
    {
     "output_type": "execute_result",
     "data": {
      "text/plain": [
       "tensor([[1, 1, 1],\n",
       "        [1, 1, 1]], dtype=torch.int32)"
      ]
     },
     "metadata": {},
     "execution_count": 20
    }
   ],
   "metadata": {}
  },
  {
   "cell_type": "markdown",
   "source": [
    "#### 命名张量\n",
    "\n",
    "命名张量（Named Tensors）旨在允许用户将显式名称与张量维度关联起来，使张量更易于使用。在大多数情况下，使用维度名称来进行维度操作，从而避免了按位置确定维度的需要。此外，命名张量使用名称来自动检查API是否在运行时正确使用，从而提供额外的安全性。名称还可用于重新排列维度，例如，支持“按名称广播”而不是“按位置广播”等等。现在允许张量拥有命名维度的工厂函数（factory functions）有：tensor，empty，ones，zeros，randn等等。\n",
    "\n",
    "下面将以深度学习中常用的维度来举例说明命名张量的使用，其中`N`代表batch_size，`C`代表通道数，`H`代表高度，`W`代表宽度。"
   ],
   "metadata": {}
  },
  {
   "cell_type": "code",
   "execution_count": 21,
   "source": [
    "# 命名张量API在后续还有可能还有变化，所以会系统会提示warning，在此忽略\r\n",
    "import warnings\r\n",
    "warnings.filterwarnings(\"ignore\")\r\n",
    "# 直接使用names参数创建命名张量\r\n",
    "imgs = t.randn(1, 2, 2, 3, names=('N', 'C', 'H', 'W'))\r\n",
    "imgs.names"
   ],
   "outputs": [
    {
     "output_type": "execute_result",
     "data": {
      "text/plain": [
       "('N', 'C', 'H', 'W')"
      ]
     },
     "metadata": {},
     "execution_count": 21
    }
   ],
   "metadata": {}
  },
  {
   "cell_type": "code",
   "execution_count": 22,
   "source": [
    "# 查看旋转操作造成的维度变换\r\n",
    "imgs_rotate = imgs.transpose(2, 3)\r\n",
    "imgs_rotate.names"
   ],
   "outputs": [
    {
     "output_type": "execute_result",
     "data": {
      "text/plain": [
       "('N', 'C', 'W', 'H')"
      ]
     },
     "metadata": {},
     "execution_count": 22
    }
   ],
   "metadata": {
    "pycharm": {
     "name": "#%%\n"
    }
   }
  },
  {
   "cell_type": "code",
   "execution_count": 23,
   "source": [
    "# 通过refine_names()函数对未命名的张量命名，其中不需要名字的可以用None表示\r\n",
    "another_imgs = t.rand(1, 3, 2, 2)\r\n",
    "another_imgs = another_imgs.refine_names('N', None, 'H', 'W')\r\n",
    "another_imgs.names"
   ],
   "outputs": [
    {
     "output_type": "execute_result",
     "data": {
      "text/plain": [
       "('N', None, 'H', 'W')"
      ]
     },
     "metadata": {},
     "execution_count": 23
    }
   ],
   "metadata": {
    "pycharm": {
     "name": "#%%\n"
    }
   }
  },
  {
   "cell_type": "code",
   "execution_count": 24,
   "source": [
    "# 修改部分维度的名称\r\n",
    "renamed_imgs = imgs.rename(H='height', W='width')\r\n",
    "renamed_imgs.names"
   ],
   "outputs": [
    {
     "output_type": "execute_result",
     "data": {
      "text/plain": [
       "('N', 'C', 'height', 'width')"
      ]
     },
     "metadata": {},
     "execution_count": 24
    }
   ],
   "metadata": {
    "pycharm": {
     "name": "#%%\n"
    }
   }
  },
  {
   "cell_type": "code",
   "execution_count": 25,
   "source": [
    "# 通过维度的名称做维度转换\r\n",
    "convert_imgs = renamed_imgs.align_to('N', 'height', 'width', 'C')\r\n",
    "convert_imgs.names"
   ],
   "outputs": [
    {
     "output_type": "execute_result",
     "data": {
      "text/plain": [
       "('N', 'height', 'width', 'C')"
      ]
     },
     "metadata": {},
     "execution_count": 25
    }
   ],
   "metadata": {
    "pycharm": {
     "name": "#%%\n"
    }
   }
  },
  {
   "cell_type": "markdown",
   "source": [
    "命名张量还可以直观的用于说明Tensor的形状改变和维度增减，这一部分将在3.2节进行详细介绍。\n",
    "\n",
    "#### Tensor的类型\n",
    "\n",
    " Tensor有不同的数据类型，如表3-2所示，每种类型分别对应有CPU和GPU版本(HalfTensor除外)。默认的Tensor是FloatTensor，可通过`torch.set_default_tensor_type` 来修改默认Tensor类型(如果默认类型为GPU tensor，则所有操作都将在GPU上进行)。Tensor的类型对分析内存占用很有帮助。例如，一个size为(1000, 1000, 1000)的FloatTensor，它有`1000*1000*1000=10^9`个元素，每个元素占32bit/8 = 4Byte内存，所以共占大约4GB内存/显存。HalfTensor是专门为GPU版本设计的，同样的元素个数，显存占用只有FloatTensor的一半，所以可以极大缓解GPU显存不足的问题，但由于HalfTensor所能表示的数值大小和精度有限，所以可能出现溢出等问题。\n",
    "\n",
    "\n",
    "表3-2: Tensor数据类型\n",
    "\n",
    "| Data type | dtype | CPU tensor   | GPU tensor   |\n",
    "| ------------------------ | --------------------------------- | ----------------------------------------- | ------------------------- |\n",
    "| 32-bit 浮点型   | `torch.float32` or `torch.float`  | `torch.FloatTensor`  | `torch.cuda.FloatTensor`  |\n",
    "| 64-bit 浮点型   | `torch.float64` or `torch.double` | `torch.DoubleTensor` | `torch.cuda.DoubleTensor` |\n",
    "| 16-bit 半精度浮点型    | `torch.float16` or `torch.half`  | `torch.HalfTensor`| `torch.cuda.HalfTensor`|\n",
    "| 8-bit无符号整型 | `torch.uint8`  | `torch.ByteTensor`| `torch.cuda.ByteTensor`|\n",
    "| 8-bit有符号整型  | `torch.int8`  | `torch.CharTensor`| `torch.cuda.CharTensor`|\n",
    "| 16-bit有符号整型  | `torch.int16` or `torch.short`   | `torch.ShortTensor` | `torch.cuda.ShortTensor`  |\n",
    "| 32-bit有符号整型 | `torch.int32` or `torch.int`  | `torch.IntTensor` | `torch.cuda.IntTensor` |\n",
    "| 64-bit有符号整型  | `torch.int64` or `torch.long`  | `torch.LongTensor` | `torch.cuda.LongTensor`|\n",
    "\n",
    "\n",
    "不同Tensor类型之间是可以互相转换的，下面是常用的三种转换方法：\n",
    "\n",
    "1. 各种数据类型之间可以互相转换，`type(new_type)`是通用的做法，同时还有`float`、`long`、`half`等快捷方法；\n",
    "2. CPU Tensor与GPU Tensor之间的互相转换通过`tensor.cuda`和`tensor.cpu`方法实现，此外还可以使用`tensor.to(device)`；\n",
    "3. 创建同种类型的张量:`torch.*_like` 和 `tensor.new_*`。Tensor还有一个`new`方法，用法与`torch.Tensor`一样，会调用该Tensor对应类型的构造函数，生成与当前Tensor类型一致的Tensor。如`torch.*_like(tensorA)` 可以生成和`tensorA`拥有同样属性(类型，形状，CPU/GPU)的新Tensor，例如`torch.ones_like()`，而`tensor.new_*(new_shape)` 可以新建一个不同形状的Tensor，例如`tensor.new_zeros()`。\n",
    "\n",
    "下面将举例说明Tensor之间的转换："
   ],
   "metadata": {}
  },
  {
   "cell_type": "code",
   "execution_count": 26,
   "source": [
    "# 更改默认Tensor的类型\r\n",
    "a = t.rand(2, 3)\r\n",
    "print(a.dtype)\r\n",
    "# 设置默认类型为DoubleTensor\r\n",
    "t.set_default_tensor_type('torch.DoubleTensor')\r\n",
    "a = t.rand(2, 3)\r\n",
    "print(a.dtype)\r\n",
    "# 恢复之前的默认设置\r\n",
    "t.set_default_tensor_type('torch.FloatTensor')"
   ],
   "outputs": [
    {
     "output_type": "stream",
     "name": "stdout",
     "text": [
      "torch.float32\n",
      "torch.float64\n"
     ]
    }
   ],
   "metadata": {}
  },
  {
   "cell_type": "code",
   "execution_count": 27,
   "source": [
    "# 通过type方法和快捷方法修改Tensor的类型\r\n",
    "b1 = a.type(t.FloatTensor)\r\n",
    "b2 = a.float()\r\n",
    "a.dtype, b1.dtype, b2.dtype"
   ],
   "outputs": [
    {
     "output_type": "execute_result",
     "data": {
      "text/plain": [
       "(torch.float64, torch.float32, torch.float32)"
      ]
     },
     "metadata": {},
     "execution_count": 27
    }
   ],
   "metadata": {}
  },
  {
   "cell_type": "code",
   "execution_count": 28,
   "source": [
    "# new方法相当于利用DoubleTensor的构造函数，因为此时a是torch.float64类型\r\n",
    "a.new(2,3)"
   ],
   "outputs": [
    {
     "output_type": "execute_result",
     "data": {
      "text/plain": [
       "tensor([[6.9427e-310, 6.9427e-310, 4.6877e-310],\n",
       "        [6.9427e-310, 4.6877e-310, 4.6877e-310]], dtype=torch.float64)"
      ]
     },
     "metadata": {},
     "execution_count": 28
    }
   ],
   "metadata": {}
  },
  {
   "cell_type": "markdown",
   "source": [
    "#### 索引操作\n",
    "\n",
    "Tensor支持与numpy.ndarray类似的索引操作，语法上也类似，下面将通过一些例子讲解常用的索引操作。其中，能通过修改张量stride/start/dim等属性实现的索引操作与原Tensor共享内存，也就是说如果修改其中一个，另一个会跟着修改。关于索引操作更详细的内容将在本书第六章中进行讲解。"
   ],
   "metadata": {}
  },
  {
   "cell_type": "code",
   "execution_count": 29,
   "source": [
    "a = t.randn(3, 4)\r\n",
    "a"
   ],
   "outputs": [
    {
     "output_type": "execute_result",
     "data": {
      "text/plain": [
       "tensor([[-0.0317,  1.7469, -1.4530, -0.4462],\n",
       "        [ 2.5300, -1.0586, -1.0968,  0.0187],\n",
       "        [-0.5891,  0.1420,  0.3084, -0.5744]])"
      ]
     },
     "metadata": {},
     "execution_count": 29
    }
   ],
   "metadata": {}
  },
  {
   "cell_type": "code",
   "execution_count": 30,
   "source": [
    "print(\"查看第1行结果：\", a[0])\r\n",
    "print(\"查看第2列结果：\", a[:,1])\r\n",
    "print(\"查看第2行最后两个元素：\", a[1, -2:])"
   ],
   "outputs": [
    {
     "output_type": "stream",
     "name": "stdout",
     "text": [
      "查看第1行结果： tensor([-0.0317,  1.7469, -1.4530, -0.4462])\n",
      "查看第2列结果： tensor([ 1.7469, -1.0586,  0.1420])\n",
      "查看第2行最后两个元素： tensor([-1.0968,  0.0187])\n"
     ]
    }
   ],
   "metadata": {}
  },
  {
   "cell_type": "code",
   "execution_count": 31,
   "source": [
    "# 返回一个ByteTensor\r\n",
    "print(a > 0) # bool型\r\n",
    "print((a > 0).int()) # 整型"
   ],
   "outputs": [
    {
     "output_type": "stream",
     "name": "stdout",
     "text": [
      "tensor([[False,  True, False, False],\n",
      "        [ True, False, False,  True],\n",
      "        [False,  True,  True, False]])\n",
      "tensor([[0, 1, 0, 0],\n",
      "        [1, 0, 0, 1],\n",
      "        [0, 1, 1, 0]], dtype=torch.int32)\n"
     ]
    }
   ],
   "metadata": {}
  },
  {
   "cell_type": "code",
   "execution_count": 32,
   "source": [
    "# 返回Tensor中满足条件的结果，下面两种写法等价\r\n",
    "# 选择返回的结果与原Tensor不共享内存空间\r\n",
    "print(a[a > 0])\r\n",
    "print(a.masked_select(a>0)) \r\n",
    "# 用torch.where保留原始的索引位置，不满足条件的位置置0\r\n",
    "print(t.where(a > 0, a, t.zeros_like(a)))"
   ],
   "outputs": [
    {
     "output_type": "stream",
     "name": "stdout",
     "text": [
      "tensor([1.7469, 2.5300, 0.0187, 0.1420, 0.3084])\n",
      "tensor([1.7469, 2.5300, 0.0187, 0.1420, 0.3084])\n",
      "tensor([[0.0000, 1.7469, 0.0000, 0.0000],\n",
      "        [2.5300, 0.0000, 0.0000, 0.0187],\n",
      "        [0.0000, 0.1420, 0.3084, 0.0000]])\n"
     ]
    }
   ],
   "metadata": {}
  },
  {
   "cell_type": "markdown",
   "source": [
    "其它常用的选择函数如表3-3所示。\n",
    "\n",
    "表3-3常用的选择函数\n",
    "\n",
    "函数|功能|\n",
    ":---:|:---:|\n",
    "index_select(input, dim, index)|在指定维度dim上选取，比如选取某些行、某些列\n",
    "masked_select(input, mask)|例子如上，a[a>0]，使用ByteTensor进行选取\n",
    "non_zero(input)|非0元素的下标\n",
    "gather(input, dim, index)|根据index，在dim维度上选取数据，输出的size与index一样\n",
    "\n",
    "\n",
    "`gather`是一个比较复杂的操作，对一个2维Tensor，输出的每个元素如下：\n",
    "\n",
    "```python\n",
    "out[i][j] = input[index[i][j]][j]  # dim=0\n",
    "out[i][j] = input[i][index[i][j]]  # dim=1\n",
    "```"
   ],
   "metadata": {}
  },
  {
   "cell_type": "code",
   "execution_count": 33,
   "source": [
    "a = t.arange(0, 16).view(4, 4)\r\n",
    "a"
   ],
   "outputs": [
    {
     "output_type": "execute_result",
     "data": {
      "text/plain": [
       "tensor([[ 0,  1,  2,  3],\n",
       "        [ 4,  5,  6,  7],\n",
       "        [ 8,  9, 10, 11],\n",
       "        [12, 13, 14, 15]])"
      ]
     },
     "metadata": {},
     "execution_count": 33
    }
   ],
   "metadata": {}
  },
  {
   "cell_type": "code",
   "execution_count": 34,
   "source": [
    "# 选取对角线的元素\r\n",
    "index = t.tensor([[0,1,2,3]])\r\n",
    "a.gather(0, index)"
   ],
   "outputs": [
    {
     "output_type": "execute_result",
     "data": {
      "text/plain": [
       "tensor([[ 0,  5, 10, 15]])"
      ]
     },
     "metadata": {},
     "execution_count": 34
    }
   ],
   "metadata": {}
  },
  {
   "cell_type": "code",
   "execution_count": 35,
   "source": [
    "# 选取反对角线上的元素\r\n",
    "index = t.tensor([[3,2,1,0]]).t()\r\n",
    "a.gather(1, index)"
   ],
   "outputs": [
    {
     "output_type": "execute_result",
     "data": {
      "text/plain": [
       "tensor([[ 3],\n",
       "        [ 6],\n",
       "        [ 9],\n",
       "        [12]])"
      ]
     },
     "metadata": {},
     "execution_count": 35
    }
   ],
   "metadata": {}
  },
  {
   "cell_type": "code",
   "execution_count": 36,
   "source": [
    "# 选取两个对角线上的元素\r\n",
    "index = t.tensor([[0,1,2,3],[3,2,1,0]]).t()\r\n",
    "b = a.gather(1, index)\r\n",
    "b"
   ],
   "outputs": [
    {
     "output_type": "execute_result",
     "data": {
      "text/plain": [
       "tensor([[ 0,  3],\n",
       "        [ 5,  6],\n",
       "        [10,  9],\n",
       "        [15, 12]])"
      ]
     },
     "metadata": {},
     "execution_count": 36
    }
   ],
   "metadata": {}
  },
  {
   "cell_type": "markdown",
   "source": [
    "与`gather`相对应的逆操作是`scatter_`，`gather`把数据从input中按index取出，而`scatter_`是把取出的数据再放回去。注意`scatter_`函数是inplace操作，会直接对当前数据进行修改。\n",
    "\n",
    "```python\n",
    "out = input.gather(dim, index)\n",
    "-->近似逆操作\n",
    "out = Tensor()\n",
    "out.scatter_(dim, index)\n",
    "```"
   ],
   "metadata": {}
  },
  {
   "cell_type": "code",
   "execution_count": 37,
   "source": [
    "# 把两个对角线元素放回去到指定位置\r\n",
    "c = t.zeros(4,4).long()\r\n",
    "c.scatter_(1, index, b)"
   ],
   "outputs": [
    {
     "output_type": "execute_result",
     "data": {
      "text/plain": [
       "tensor([[ 0,  0,  0,  3],\n",
       "        [ 0,  5,  6,  0],\n",
       "        [ 0,  9, 10,  0],\n",
       "        [12,  0,  0, 15]])"
      ]
     },
     "metadata": {},
     "execution_count": 37
    }
   ],
   "metadata": {}
  },
  {
   "cell_type": "markdown",
   "source": [
    "对Tensor的任何索引操作得到的结果仍是一个Tensor，若想要获取标准的Python对象数值，需要调用`tensor.item()`，需要注意的是这个方法只对包含一个元素的Tensor适用。"
   ],
   "metadata": {}
  },
  {
   "cell_type": "code",
   "execution_count": 38,
   "source": [
    "t.Tensor([1.]).item()\r\n",
    "# t.Tensor([1, 2]).item()  ->\r\n",
    "# raise ValueError: only one element tensors can be converted to Python scalars"
   ],
   "outputs": [
    {
     "output_type": "execute_result",
     "data": {
      "text/plain": [
       "1.0"
      ]
     },
     "metadata": {},
     "execution_count": 38
    }
   ],
   "metadata": {}
  },
  {
   "cell_type": "markdown",
   "source": [
    "#### 高级索引\n",
    "\n",
    "目前的PyTorch已经支持绝大多数NumPy风格的高级索引。高级索引可以看成是普通索引操作的扩展，但是高级索引操作的结果一般不和原始的Tensor共享内存。关于更多高级索引的内容可以参考本书第六章第三节。"
   ],
   "metadata": {}
  },
  {
   "cell_type": "code",
   "execution_count": 39,
   "source": [
    "x = t.arange(0,16).view(2,2,4)\r\n",
    "x"
   ],
   "outputs": [
    {
     "output_type": "execute_result",
     "data": {
      "text/plain": [
       "tensor([[[ 0,  1,  2,  3],\n",
       "         [ 4,  5,  6,  7]],\n",
       "\n",
       "        [[ 8,  9, 10, 11],\n",
       "         [12, 13, 14, 15]]])"
      ]
     },
     "metadata": {},
     "execution_count": 39
    }
   ],
   "metadata": {}
  },
  {
   "cell_type": "code",
   "execution_count": 40,
   "source": [
    "x[[1, 0], [1, 1], [2, 0]] # x[1,1,2]和x[0,1,0]"
   ],
   "outputs": [
    {
     "output_type": "execute_result",
     "data": {
      "text/plain": [
       "tensor([14,  4])"
      ]
     },
     "metadata": {},
     "execution_count": 40
    }
   ],
   "metadata": {}
  },
  {
   "cell_type": "code",
   "execution_count": 41,
   "source": [
    "x[[1, 0], [0], [1]] # x[1,0,1],x[0,0,1]"
   ],
   "outputs": [
    {
     "output_type": "execute_result",
     "data": {
      "text/plain": [
       "tensor([9, 1])"
      ]
     },
     "metadata": {},
     "execution_count": 41
    }
   ],
   "metadata": {}
  },
  {
   "cell_type": "markdown",
   "source": [
    "#### 逐元素操作\n",
    "\n",
    "逐元素操作会对Tensor的每一个元素(point-wise，又名element-wise)进行操作，此类操作的输入与输出形状一致。常用的操作如表3-4所示。\n",
    "\n",
    "表3-4: 常见的逐元素操作\n",
    "\n",
    "|函数|功能|\n",
    "|:--:|:--:|\n",
    "|abs/sqrt/div/exp/fmod/log/pow..|绝对值/平方根/除法/指数/求余/对数/求幂..|\n",
    "|cos/sin/asin/atan2/cosh..|三角函数|\n",
    "|ceil/round/floor/trunc| 上取整/四舍五入/下取整/只保留整数部分|\n",
    "|clamp(input,min,max)|超过min和max部分截断|\n",
    "|sigmod/tanh..|激活函数\n",
    "\n",
    "对于很多操作，例如div、mul、pow、fmod等，PyTorch中都实现了运算符重载，因此读者可以很方便的直接使用。如`a ** 2` 等价于`torch.pow(a,2)`, `a * 2`等价于`torch.mul(a,2)`。\n",
    "\n",
    "其中`clamp(x, min, max)`的输出满足以下公式：\n",
    "$$\n",
    "y_i =\n",
    "\\begin{cases}\n",
    "min,  & \\text{if  } x_i \\lt min \\\\\n",
    "x_i,  & \\text{if  } min \\le x_i \\le max  \\\\\n",
    "max,  & \\text{if  } x_i \\gt max\\\\\n",
    "\\end{cases}\n",
    "$$\n",
    "`clamp`常用在某些需要比较大小的地方，如取一个Tensor的每个元素与另一个数的较大值。下面将举例说明一些常见的逐元素操作："
   ],
   "metadata": {}
  },
  {
   "cell_type": "code",
   "execution_count": 42,
   "source": [
    "a = t.arange(0, 6).float().view(2, 3)\r\n",
    "t.cos(a)"
   ],
   "outputs": [
    {
     "output_type": "execute_result",
     "data": {
      "text/plain": [
       "tensor([[ 1.0000,  0.5403, -0.4161],\n",
       "        [-0.9900, -0.6536,  0.2837]])"
      ]
     },
     "metadata": {},
     "execution_count": 42
    }
   ],
   "metadata": {}
  },
  {
   "cell_type": "code",
   "execution_count": 43,
   "source": [
    "# 取模运算的运算符重载，二者等价\r\n",
    "print(a % 3)\r\n",
    "print(t.fmod(a, 3))"
   ],
   "outputs": [
    {
     "output_type": "stream",
     "name": "stdout",
     "text": [
      "tensor([[0., 1., 2.],\n",
      "        [0., 1., 2.]])\n",
      "tensor([[0., 1., 2.],\n",
      "        [0., 1., 2.]])\n"
     ]
    }
   ],
   "metadata": {}
  },
  {
   "cell_type": "code",
   "execution_count": 44,
   "source": [
    "# 将a中的值进行上下限截断\r\n",
    "print(a)\r\n",
    "print(t.clamp(a, min=2, max=4))"
   ],
   "outputs": [
    {
     "output_type": "stream",
     "name": "stdout",
     "text": [
      "tensor([[0., 1., 2.],\n",
      "        [3., 4., 5.]])\n",
      "tensor([[2., 2., 2.],\n",
      "        [3., 4., 4.]])\n"
     ]
    }
   ],
   "metadata": {}
  },
  {
   "cell_type": "markdown",
   "source": [
    "####  归并操作 \n",
    "\n",
    "归并操作会使用Tensor中的部分元素进行计算，其输出形状可能小于输入形状。同时我们可以沿着某一维度进行指定的归并操作。如加法`sum`，既可以计算整个Tensor的和，也可以计算Tensor中每一行或每一列的和。常用的归并操作如表3-5所示。\n",
    "\n",
    "表3-5: 常用归并操作\n",
    "\n",
    "|函数|功能|\n",
    "|:---:|:---:|\n",
    "|mean/sum/median/mode|均值/求和/中位数/众数|\n",
    "|norm/dist|范数/距离|\n",
    "|std/var|标准差/方差|\n",
    "|cumsum/cumprod|累加/累乘|\n",
    "\n",
    "以上大多数函数都有一个维度参数`dim`，用来指定这些操作是在哪个维度上执行的。关于`dim`(对应于Numpy中的axis)的解释众说纷纭，这里提供一个简单的记忆方式：\n",
    "\n",
    "假设输入的形状是(m, n, k)\n",
    "\n",
    "- 如果指定dim=0，输出的形状就是(1, n, k)或者(n, k)\n",
    "- 如果指定dim=1，输出的形状就是(m, 1, k)或者(m, k)\n",
    "- 如果指定dim=2，输出的形状就是(m, n, 1)或者(m, n)\n",
    "\n",
    "其中size中是否有\"1\"，取决于参数`keepdim`，若指定`keepdim=True`则会保留维度`1`。注意，以上只是经验总结，并非所有函数都符合这种形状变化方式，如`cumsum`。下面将举例说明："
   ],
   "metadata": {}
  },
  {
   "cell_type": "code",
   "execution_count": 45,
   "source": [
    "# 注意对比是否保留维度1的区别\r\n",
    "b = t.ones(2, 3)\r\n",
    "print(b.sum(dim=0, keepdim=True ),b.sum(dim=0, keepdim=True ).shape)\r\n",
    "print(b.sum(dim=0, keepdim=False), b.sum(dim=0, keepdim=False).shape)"
   ],
   "outputs": [
    {
     "output_type": "stream",
     "name": "stdout",
     "text": [
      "tensor([[2., 2., 2.]]) torch.Size([1, 3])\n",
      "tensor([2., 2., 2.]) torch.Size([3])\n"
     ]
    }
   ],
   "metadata": {}
  },
  {
   "cell_type": "code",
   "execution_count": 46,
   "source": [
    "a = t.arange(2, 8).view(2, 3)\r\n",
    "print(a)\r\n",
    "print(a.cumsum(dim=1)) # 沿着行累加"
   ],
   "outputs": [
    {
     "output_type": "stream",
     "name": "stdout",
     "text": [
      "tensor([[2, 3, 4],\n",
      "        [5, 6, 7]])\n",
      "tensor([[ 2,  5,  9],\n",
      "        [ 5, 11, 18]])\n"
     ]
    }
   ],
   "metadata": {}
  },
  {
   "cell_type": "markdown",
   "source": [
    "#### 比较\n",
    "\n",
    "比较函数中有一些是逐元素比较，操作类似于逐元素操作，还有一些则类似于归并操作。常用比较函数如表3-6所示。\n",
    "\n",
    "表3-6: 常用比较函数\n",
    "\n",
    "|函数|功能|\n",
    "|:--:|:--:|\n",
    "|gt/lt/ge/le/eq/ne|大于/小于/大于等于/小于等于/等于/不等于|\n",
    "|topk|最大的k个数|\n",
    "|sort|排序|\n",
    "|max/min|比较两个Tensor的最大、最小值|\n",
    "\n",
    "表中第一行的比较操作已经实现了运算符重载，因此可以使用`a>=b`、`a>b`、`a!=b`、`a==b`，其返回结果是一个`ByteTensor`，可用来选取元素。max/min这两个操作比较特殊，以max来说，它有以下三种使用情况：\n",
    "- t.max(tensor)：返回Tensor中最大的一个数\n",
    "- t.max(tensor,dim)：指定维上最大的数，返回Tensor和下标\n",
    "- t.max(tensor1, tensor2): 返回两个Tensor相比较大的元素\n",
    "\n",
    "而若要比较一个Tensor和一个数，可以使用clamp函数。下面举例说明。"
   ],
   "metadata": {}
  },
  {
   "cell_type": "code",
   "execution_count": 47,
   "source": [
    "a = t.linspace(0, 15, 6).view(2, 3)\r\n",
    "b = t.linspace(15, 0, 6).view(2, 3)\r\n",
    "print(a > b)\r\n",
    "print(\"a中大于b的元素: \", a[a > b]) # 返回a中大于b的元素\r\n",
    "print(\"a中最大的元素: \", t.max(a)) # 返回a中最大的元素"
   ],
   "outputs": [
    {
     "output_type": "stream",
     "name": "stdout",
     "text": [
      "tensor([[False, False, False],\n",
      "        [ True,  True,  True]])\n",
      "a中大于b的元素:  tensor([ 9., 12., 15.])\n",
      "a中最大的元素:  tensor(15.)\n"
     ]
    }
   ],
   "metadata": {}
  },
  {
   "cell_type": "code",
   "execution_count": 48,
   "source": [
    "t.max(b, dim=1)\r\n",
    "# 第一个返回值15和6分别表示第0行和第1行最大的元素\r\n",
    "# 第二个返回值的0和0表示上述最大的数是该行第0个元素"
   ],
   "outputs": [
    {
     "output_type": "execute_result",
     "data": {
      "text/plain": [
       "torch.return_types.max(\n",
       "values=tensor([15.,  6.]),\n",
       "indices=tensor([0, 0]))"
      ]
     },
     "metadata": {},
     "execution_count": 48
    }
   ],
   "metadata": {
    "pycharm": {
     "name": "#%%\n"
    }
   }
  },
  {
   "cell_type": "code",
   "execution_count": 49,
   "source": [
    "t.max(a, b) # 两个Tensor对应位置上较大的元素"
   ],
   "outputs": [
    {
     "output_type": "execute_result",
     "data": {
      "text/plain": [
       "tensor([[15., 12.,  9.],\n",
       "        [ 9., 12., 15.]])"
      ]
     },
     "metadata": {},
     "execution_count": 49
    }
   ],
   "metadata": {
    "pycharm": {
     "name": "#%%\n"
    }
   }
  },
  {
   "cell_type": "markdown",
   "source": [
    "#### 线性代数\n",
    "\n",
    "PyTorch的线性函数主要封装了Blas和Lapack，其用法和接口都与之类似。常用的线性代数函数如表3-7所示。\n",
    "\n",
    "表3-7: 常用的线性代数函数\n",
    "\n",
    "|函数|功能|\n",
    "|:---:|:---:|\n",
    "|trace|对角线元素之和(矩阵的迹)|\n",
    "|diag|对角线元素|\n",
    "|triu/tril|矩阵的上三角/下三角，可指定偏移量|\n",
    "|mm/bmm|矩阵乘法，batch的矩阵乘法|\n",
    "|addmm/addbmm/addmv|矩阵运算\n",
    "|t|转置|\n",
    "|dot/cross|内积/外积\n",
    "|inverse|求逆矩阵\n",
    "|svd|奇异值分解\n",
    "\n",
    "具体使用说明请参见官方文档，需要注意的是，矩阵的转置会导致存储空间不连续，因此需调用它的`.contiguous`方法将其转为连续。下面将举例说明：\n"
   ],
   "metadata": {}
  },
  {
   "cell_type": "code",
   "execution_count": 50,
   "source": [
    "a = t.linspace(0, 15, 6).view(2, 3)\r\n",
    "b = a.t()\r\n",
    "b.is_contiguous()"
   ],
   "outputs": [
    {
     "output_type": "execute_result",
     "data": {
      "text/plain": [
       "False"
      ]
     },
     "metadata": {},
     "execution_count": 50
    }
   ],
   "metadata": {}
  },
  {
   "cell_type": "code",
   "execution_count": 51,
   "source": [
    "b = b.contiguous()\r\n",
    "b.is_contiguous()"
   ],
   "outputs": [
    {
     "output_type": "execute_result",
     "data": {
      "text/plain": [
       "True"
      ]
     },
     "metadata": {},
     "execution_count": 51
    }
   ],
   "metadata": {}
  },
  {
   "cell_type": "markdown",
   "source": [
    "### 3.1.2 Tensor与NumPy\n",
    "\n",
    "Tensor和NumPy数组之间具有很高的相似性，彼此之间的互相操作也非常简单高效。需要注意的是，NumPy和Tensor共享内存。由于NumPy中已经封装了很多常用操作，所以当遇到Tensor不支持的操作时，可先将其转换成NumPy数组，进行相应处理后再转回Tensor。由于这样操作的转换开销很小，因此在实际应用中我们将经常进行两者的相互转换，下面将举例说明。"
   ],
   "metadata": {}
  },
  {
   "cell_type": "code",
   "execution_count": 52,
   "source": [
    "import numpy as np\r\n",
    "a = np.ones([2, 3],dtype=np.float32)\r\n",
    "a"
   ],
   "outputs": [
    {
     "output_type": "execute_result",
     "data": {
      "text/plain": [
       "array([[1., 1., 1.],\n",
       "       [1., 1., 1.]], dtype=float32)"
      ]
     },
     "metadata": {},
     "execution_count": 52
    }
   ],
   "metadata": {}
  },
  {
   "cell_type": "code",
   "execution_count": 53,
   "source": [
    "# 从NumPy转化为Tensor，下面两种方式等价\r\n",
    "b = t.from_numpy(a)\r\n",
    "# 注意此时是大写的Tensor，torch.tensor()只进行数据拷贝，不会共享内存。\r\n",
    "# b = t.Tensor(a)\r\n",
    "b"
   ],
   "outputs": [
    {
     "output_type": "execute_result",
     "data": {
      "text/plain": [
       "tensor([[1., 1., 1.],\n",
       "        [1., 1., 1.]])"
      ]
     },
     "metadata": {},
     "execution_count": 53
    }
   ],
   "metadata": {}
  },
  {
   "cell_type": "code",
   "execution_count": 54,
   "source": [
    "# 此时，NumPy和Tensor是共享内存的\r\n",
    "a[0, 1] = -1\r\n",
    "b # 修改a的值，b的值也会被修改"
   ],
   "outputs": [
    {
     "output_type": "execute_result",
     "data": {
      "text/plain": [
       "tensor([[ 1., -1.,  1.],\n",
       "        [ 1.,  1.,  1.]])"
      ]
     },
     "metadata": {},
     "execution_count": 54
    }
   ],
   "metadata": {}
  },
  {
   "cell_type": "markdown",
   "source": [
    "**注意**： 当NumPy的数据类型和Tensor的类型不一样的时候，数据会被复制，不会共享内存。"
   ],
   "metadata": {}
  },
  {
   "cell_type": "code",
   "execution_count": 55,
   "source": [
    "a = np.ones([2, 3])\r\n",
    "# 注意和上面的a的区别（dtype不是float32）\r\n",
    "a.dtype"
   ],
   "outputs": [
    {
     "output_type": "execute_result",
     "data": {
      "text/plain": [
       "dtype('float64')"
      ]
     },
     "metadata": {},
     "execution_count": 55
    }
   ],
   "metadata": {}
  },
  {
   "cell_type": "code",
   "execution_count": 56,
   "source": [
    "b = t.Tensor(a) # 此处进行拷贝，不共享内存\r\n",
    "b.dtype"
   ],
   "outputs": [
    {
     "output_type": "execute_result",
     "data": {
      "text/plain": [
       "torch.float32"
      ]
     },
     "metadata": {},
     "execution_count": 56
    }
   ],
   "metadata": {}
  },
  {
   "cell_type": "code",
   "execution_count": 57,
   "source": [
    "c = t.from_numpy(a) # 注意c的类型（DoubleTensor）\r\n",
    "c"
   ],
   "outputs": [
    {
     "output_type": "execute_result",
     "data": {
      "text/plain": [
       "tensor([[1., 1., 1.],\n",
       "        [1., 1., 1.]], dtype=torch.float64)"
      ]
     },
     "metadata": {},
     "execution_count": 57
    }
   ],
   "metadata": {}
  },
  {
   "cell_type": "code",
   "execution_count": 58,
   "source": [
    "a[0, 1] = -1\r\n",
    "print(b) # b与a不共享内存，所以即使a改变了，b也不变\r\n",
    "print(c) # c与a共享内存"
   ],
   "outputs": [
    {
     "output_type": "stream",
     "name": "stdout",
     "text": [
      "tensor([[1., 1., 1.],\n",
      "        [1., 1., 1.]])\n",
      "tensor([[ 1., -1.,  1.],\n",
      "        [ 1.,  1.,  1.]], dtype=torch.float64)\n"
     ]
    }
   ],
   "metadata": {}
  },
  {
   "cell_type": "markdown",
   "source": [
    "**注意：** 不论输入的类型是什么，torch.tensor()都只进行进行数据拷贝，不会共享内存。读者需要注意区分torch.Tensor(),torch.from_numpy()与torch.tensor()在内存共享方面的区别。"
   ],
   "metadata": {}
  },
  {
   "cell_type": "code",
   "execution_count": 59,
   "source": [
    "a_tensor = t.tensor(a)\r\n",
    "a_tensor[0, 1] = 1\r\n",
    "a # a和a_tensor不共享内存"
   ],
   "outputs": [
    {
     "output_type": "execute_result",
     "data": {
      "text/plain": [
       "array([[ 1., -1.,  1.],\n",
       "       [ 1.,  1.,  1.]])"
      ]
     },
     "metadata": {},
     "execution_count": 59
    }
   ],
   "metadata": {}
  },
  {
   "cell_type": "markdown",
   "source": [
    "### 3.1.3 Tensor的基本结构\r\n",
    "\r\n",
    "Tensor的数据结构如图3-1所示。Tensor分为头信息区(Tensor)和存储区(Storage)，信息区主要保存着Tensor的形状（size）、步长（stride）、数据类型（type）等信息，而真正的数据则保存成连续数组。由于数据动辄成千上万，因此信息区元素占用内存较少，主要内存占用取决于Tensor中元素的数目，也即存储区的大小。\r\n",
    "\r\n",
    "一般来说一个Tensor有与之对应的Storage，Storage是在data之上封装的接口，便于使用，而Tensor的内存地址是指向Tensor的头（head）。不同Tensor的head信息一般不同，但却可能使用相同的Storage。很多关于Tensor的操作只是创建了一个新的head，但是它们仍共享同一个Storage，下面将举例说明。\r\n",
    "\r\n",
    "![图3-1: Tensor的数据结构](imgs/tensor_data_structure.png)"
   ],
   "metadata": {}
  },
  {
   "cell_type": "code",
   "execution_count": 60,
   "source": [
    "a = t.arange(0, 6).float()\r\n",
    "b = a.view(2, 3)\r\n",
    "# id(变量)可以查看它在内存中的地址\r\n",
    "# Storage的内存地址一样，即它们是同一个Storage\r\n",
    "id(b.storage()) == id(a.storage())"
   ],
   "outputs": [
    {
     "output_type": "execute_result",
     "data": {
      "text/plain": [
       "True"
      ]
     },
     "metadata": {},
     "execution_count": 60
    }
   ],
   "metadata": {}
  },
  {
   "cell_type": "code",
   "execution_count": 61,
   "source": [
    "# a改变，b也随之改变，因为他们共享Storage\r\n",
    "a[1] = 100\r\n",
    "b"
   ],
   "outputs": [
    {
     "output_type": "execute_result",
     "data": {
      "text/plain": [
       "tensor([[  0., 100.,   2.],\n",
       "        [  3.,   4.,   5.]])"
      ]
     },
     "metadata": {},
     "execution_count": 61
    }
   ],
   "metadata": {}
  },
  {
   "cell_type": "code",
   "execution_count": 62,
   "source": [
    "# c取得a的部分索引，只改变了head信息，Storage相同\r\n",
    "c = a[2:] \r\n",
    "id(c.storage()) == id(a.storage())"
   ],
   "outputs": [
    {
     "output_type": "execute_result",
     "data": {
      "text/plain": [
       "True"
      ]
     },
     "metadata": {},
     "execution_count": 62
    }
   ],
   "metadata": {}
  },
  {
   "cell_type": "code",
   "execution_count": 63,
   "source": [
    "c.data_ptr(), a.data_ptr() # data_ptr返回Tensor首元素的内存地址\r\n",
    "# 可以看出两个内存地址相差8，这是因为2*4=8：相差两个元素，每个元素占4个字节(float)\r\n",
    "# 如果差值不是8（如16），可以用a.type()查看一下数据类型是不是torch.FloatTensor"
   ],
   "outputs": [
    {
     "output_type": "execute_result",
     "data": {
      "text/plain": [
       "(94880397551496, 94880397551488)"
      ]
     },
     "metadata": {},
     "execution_count": 63
    }
   ],
   "metadata": {}
  },
  {
   "cell_type": "code",
   "execution_count": 64,
   "source": [
    "c[0] = -100 # c[0]的内存地址对应a[2]的内存地址\r\n",
    "a"
   ],
   "outputs": [
    {
     "output_type": "execute_result",
     "data": {
      "text/plain": [
       "tensor([   0.,  100., -100.,    3.,    4.,    5.])"
      ]
     },
     "metadata": {},
     "execution_count": 64
    }
   ],
   "metadata": {}
  },
  {
   "cell_type": "code",
   "execution_count": 65,
   "source": [
    "d = t.Tensor(c.storage()) # 此处拷贝共享了内存\r\n",
    "d[0] = 6666\r\n",
    "b"
   ],
   "outputs": [
    {
     "output_type": "execute_result",
     "data": {
      "text/plain": [
       "tensor([[ 6.6660e+03,  1.0000e+02, -1.0000e+02],\n",
       "        [ 3.0000e+00,  4.0000e+00,  5.0000e+00]])"
      ]
     },
     "metadata": {},
     "execution_count": 65
    }
   ],
   "metadata": {}
  },
  {
   "cell_type": "code",
   "execution_count": 66,
   "source": [
    "# 下面４个Tensor共享Storage\r\n",
    "id(a.storage()) == id(b.storage()) == id(c.storage()) == id(d.storage())"
   ],
   "outputs": [
    {
     "output_type": "execute_result",
     "data": {
      "text/plain": [
       "True"
      ]
     },
     "metadata": {},
     "execution_count": 66
    }
   ],
   "metadata": {}
  },
  {
   "cell_type": "code",
   "execution_count": 67,
   "source": [
    "# c取得a的部分索引，改变了偏移量\r\n",
    "a.storage_offset(), c.storage_offset(), d.storage_offset()"
   ],
   "outputs": [
    {
     "output_type": "execute_result",
     "data": {
      "text/plain": [
       "(0, 2, 0)"
      ]
     },
     "metadata": {},
     "execution_count": 67
    }
   ],
   "metadata": {}
  },
  {
   "cell_type": "code",
   "execution_count": 68,
   "source": [
    "e = b[::2, ::2] # 隔2行/列取一个元素\r\n",
    "print(id(e.storage()) == id(a.storage())) # 共享内存\r\n",
    "print(e.is_contiguous()) # e的存储空间是不连续的"
   ],
   "outputs": [
    {
     "output_type": "stream",
     "name": "stdout",
     "text": [
      "True\n",
      "False\n"
     ]
    }
   ],
   "metadata": {}
  },
  {
   "cell_type": "markdown",
   "source": [
    "可见绝大多数操作并不修改Tensor的数据，而只是修改了Tensor的头信息。这种做法更节省内存，同时提升了处理速度。在使用中需要注意：有些操作会导致Tensor不连续，这时需要调用`tensor.contiguous`方法将它们变成连续的数据，该方法会使数据复制一份，不再与原来的数据共享Storage。\n",
    "另外读者可以思考一下，之前说过的高级索引一般不共享Storage，而普通索引则共享Storage，这是为什么？（提示：普通索引可以通过修改Tensor的offset、stride和size实现，不修改Storage的数据，高级索引则不行）。"
   ],
   "metadata": {}
  },
  {
   "cell_type": "markdown",
   "source": [
    "## 3.2 变形记：N种改变Tensor形状的方法\n",
    "\n",
    "Tensor作为PyTorch的基本数据对象，使用过程中常需要改变Tensor的形状。在PyTorch中有很多用于改变形状的函数，在这一小节中我们将详细介绍一些常用的方法。\n",
    "\n",
    "本小节介绍的所有函数都可以用`tensor.shape` 和`tensor.reshape(*new_shape)`来实现，这里笔者将对常见的Tensor形状相关的操作进行总结，以方便读者选择最灵活便捷的函数。\n",
    "\n",
    "\n",
    "### 查看Tensor的维度\n",
    "\n",
    "关于Tensor的形状信息，除了`tensor.shape`， 还有以下三个常用函数：\n",
    "- `tensor.size()` 等价于`tensor.shape`；\n",
    "- `tensor.dim()` 能查看Tensor的维度，等效于`len(tensor.shape)`,对应于NumPy中的`array.ndim`；\n",
    "- `tensor.numel()` 用来查看tensor中元素的数量，等价于`tensor.shape[0]*tensor.shape[1]*...`或者`np.prod(tensor.shape)`, 对应于NumPy中的`array.size`。"
   ],
   "metadata": {}
  },
  {
   "cell_type": "code",
   "execution_count": 69,
   "source": [
    "import torch as t\r\n",
    "tensor = t.arange(24).reshape(2, 3, 4)\r\n",
    "# tensor.shape 和tensor.size() 等价\r\n",
    "print(f\"a.shape={tensor.shape}. a.size()={tensor.size()}\")"
   ],
   "outputs": [
    {
     "output_type": "stream",
     "name": "stdout",
     "text": [
      "a.shape=torch.Size([2, 3, 4]). a.size()=torch.Size([2, 3, 4])\n"
     ]
    }
   ],
   "metadata": {}
  },
  {
   "cell_type": "code",
   "execution_count": 70,
   "source": [
    "f'这是个{tensor.dim()}维Tensor, 总共{tensor.numel()}个元素'"
   ],
   "outputs": [
    {
     "output_type": "execute_result",
     "data": {
      "text/plain": [
       "'这是个3维Tensor, 总共24个元素'"
      ]
     },
     "metadata": {},
     "execution_count": 70
    }
   ],
   "metadata": {}
  },
  {
   "cell_type": "markdown",
   "source": [
    "### 改变Tensor的维度\n",
    "所有改变Tensor形状的操作都可以通过`tensor.reshape`实现。`tensor.reshape(new_shape)`会把不连续的Tensor变成连续的再进行形状变化，这一操作等价于`tensor.contiguous().view(new_shape)`。关于`view`和`reshape`的选用可参考下面的建议:\n",
    "\n",
    "1. 对于`reshape`而言:其接口更便捷，会自动把不连续的Tensor变为连续的，能避免很多报错。同时它的函数名和NumPy一样，便于使用。\n",
    "2. 对于`view`而言:其函数名更短，而且Tensor经过`view`操作之后仍然共享存储空间。当我们并不希望改变形状之后的Tensor和原Tensor共享存储时可以使用`view`方法。"
   ],
   "metadata": {}
  },
  {
   "cell_type": "markdown",
   "source": [
    "`reshape`和`view`二者之间有一些区别：如果对Tensor使用了`transpose`、`permute`等操作，会造成Tensor的内存变得不连续，而`view`方法只能改变连续的张量，所以需要先调用`contiguous()`方法，但`reshape`方法则不受此限制。具体来说，`view`方法返回的Tensor和原Tensor共享Storage（注意：不是共享内存地址），而`reshape`方法可能返回原Tensor的copy或者共享Storage的view。如果当前满足连续性条件，则结果与`view`相同；否则返回的就是copy（此时等价于`tensor.contiguous().view()`）。"
   ],
   "metadata": {
    "pycharm": {
     "name": "#%% md\n"
    }
   }
  },
  {
   "cell_type": "code",
   "execution_count": 71,
   "source": [
    "a = t.arange(1, 13)\r\n",
    "b = a.view(2, 6)\r\n",
    "c = a.reshape(2, 6) # 此时view和reshape等价，因为Tensor是contiguous\r\n",
    "# a,b,c三个对象的内存地址是不一样的，其中保存的是Tensor的形状(size)、步长(stride)、数据类型(type)等信息\r\n",
    "id(a)==id(b)==id(c)"
   ],
   "outputs": [
    {
     "output_type": "execute_result",
     "data": {
      "text/plain": [
       "False"
      ]
     },
     "metadata": {},
     "execution_count": 71
    }
   ],
   "metadata": {
    "pycharm": {
     "name": "#%%\n"
    }
   }
  },
  {
   "cell_type": "code",
   "execution_count": 72,
   "source": [
    "# view和reshape存储在与原始对象不同的地址内存中，但是它们共享存储器Storage，也就意味着它们共享基础数据\r\n",
    "id(a.storage())==id(b.storage())==id(c.storage())"
   ],
   "outputs": [
    {
     "output_type": "execute_result",
     "data": {
      "text/plain": [
       "True"
      ]
     },
     "metadata": {},
     "execution_count": 72
    }
   ],
   "metadata": {
    "pycharm": {
     "name": "#%%\n"
    }
   }
  },
  {
   "cell_type": "code",
   "execution_count": 73,
   "source": [
    "b = b.t() # b 不再连续\r\n",
    "b.reshape(-1, 4) # reshape 可以\r\n",
    "\r\n",
    "# 下面会报错，view无法在改变数据存储的情况下进行形状变化\r\n",
    "# b.view(-1, 4)"
   ],
   "outputs": [
    {
     "output_type": "execute_result",
     "data": {
      "text/plain": [
       "tensor([[ 1,  7,  2,  8],\n",
       "        [ 3,  9,  4, 10],\n",
       "        [ 5, 11,  6, 12]])"
      ]
     },
     "metadata": {},
     "execution_count": 73
    }
   ],
   "metadata": {
    "pycharm": {
     "name": "#%%\n"
    }
   }
  },
  {
   "cell_type": "markdown",
   "source": [
    "reshape操作的难点在于如何快速灵活地指定形状，常用的快捷变形方法有：\n",
    "\n",
    "1. `tensor.view(dim1,-1,dimN)`: 在调整Tensor形状的时候，我们不需要指定每一维的形状，可以把其中一个维度指定为-1，PyTorch会自动计算对应的形状\n",
    "2. `tensor.view_as(other)`: 将Tensor的形状变为和other 一样，等价于`tensor.view(other.shape)`\n",
    "3. `tensor.squeeze()`: 将Tensor形状中为`1`的维度去掉，比如(1,3,1,4)变为(3,4)\n",
    "4. `tensor.flatten(start_dim=0, end_dim=-1)`: 将Tensor形状中某些连续维度合并为一个维度. 比如形状(2,3,4,5) ->(2,12,5)。\n",
    "5. `tensor[None]` 和`tensor.unsqueeze(dim)`: 为Tensor新建一个维度，并把形状设为1, 比如形状(2,3) -> (2,1,3)"
   ],
   "metadata": {}
  },
  {
   "cell_type": "code",
   "execution_count": 74,
   "source": [
    "# 创建一张噪声图像, 并计算RGB每一个通道的噪声均值\r\n",
    "img_3xHxW = t.randn(3,128,256) \r\n",
    "\r\n",
    "# 将img_3xHxW的后两维合并\r\n",
    "img_3xHW = img_3xHxW.view(3, -1)\r\n",
    "# 写法等价于img_3xHxW.view(3,128*256)\r\n",
    "# 也等价于img_3xHxW.flatten(1,2)\r\n",
    "img_3xHW.mean(dim=1)"
   ],
   "outputs": [
    {
     "output_type": "execute_result",
     "data": {
      "text/plain": [
       "tensor([-1.6643e-03, -3.8993e-03,  8.6497e-07])"
      ]
     },
     "metadata": {},
     "execution_count": 74
    }
   ],
   "metadata": {}
  },
  {
   "cell_type": "code",
   "execution_count": 75,
   "source": [
    "# 图片除了RGB通道，还可以有alpha通道用来表示透明度\r\n",
    "alpha_HxW = t.rand(128,256)\r\n",
    "alpha_1xHxW = alpha_HxW[None] # 等价于 alpha.unsqueeze(0)\r\n",
    "rgba_img = t.cat([alpha_1xHxW, img_3xHxW], dim=0)\r\n",
    "rgba_img.shape "
   ],
   "outputs": [
    {
     "output_type": "execute_result",
     "data": {
      "text/plain": [
       "torch.Size([4, 128, 256])"
      ]
     },
     "metadata": {},
     "execution_count": 75
    }
   ],
   "metadata": {}
  },
  {
   "cell_type": "code",
   "execution_count": 76,
   "source": [
    "# 去掉第一维的1\r\n",
    "# 也可以使用alpha_1xHxW.squeeze()：去掉所有为1的维度\r\n",
    "# 也可以使用alpha_1xHxW.flatten(0,1): 1和128合并\r\n",
    "# 也可以使用alpha_1xHxW[0]： 通过索引取出第一维的数据\r\n",
    "alpha_HxW = alpha_1xHxW.view(128, 256)"
   ],
   "outputs": [],
   "metadata": {}
  },
  {
   "cell_type": "markdown",
   "source": [
    "### 转置`torch.transpose/tensor.permute`\n",
    "\n",
    "注意，Tensor的转置（transpose）和改变形状（reshape）是两个不一样的概念。比如将一张图片旋转90度，就属于向量的转置，无法通过单纯的改变向量形状实现。\n",
    "\n",
    "`transpose`和`permute`函数都可以用于高维矩阵的转置，但用法上稍有区别：`transpose`只能用于两个维度的转置，意思就是只能改变两个维度的信息，而`permute`可以对任意高维矩阵进行转置，直接输入转置后维度index即可。我们可以通过多次`transpose`变换达到和`permute`相同的效果。常用的转置操作还有`tensor.t()`和`tensor.T`，它们和`tensor.transpose()`一样都属于`permute`的特例。\n",
    "\n",
    "另外，向量的转置操作大多数情况下和输入的Tensor共享存储，但是会使得向量变得不连续, 此时最好通过`tensor.contiguous()`将它变成连续。但是有些操作(比如`tensor.sum/max`)支持不连续的Tensor，那么你可以不用将它变成连续, 这样可以节省内存/显存。"
   ],
   "metadata": {}
  },
  {
   "cell_type": "code",
   "execution_count": 77,
   "source": [
    "mask = t.arange(6).view(2,3) # 一张高为2，宽为3的图片\r\n",
    "mask"
   ],
   "outputs": [
    {
     "output_type": "execute_result",
     "data": {
      "text/plain": [
       "tensor([[0, 1, 2],\n",
       "        [3, 4, 5]])"
      ]
     },
     "metadata": {},
     "execution_count": 77
    }
   ],
   "metadata": {}
  },
  {
   "cell_type": "code",
   "execution_count": 78,
   "source": [
    "# 将图片旋转90度, 也就是第一个维度(0)和第二个维度交换\r\n",
    "# 等价于mask.transpose(1,0)\r\n",
    "# 等价于mask.t() 或 img.T\r\n",
    "# 等价于mask.permute(1,0), 不等价于img.permute(0,1)\r\n",
    "mask.transpose(0,1)"
   ],
   "outputs": [
    {
     "output_type": "execute_result",
     "data": {
      "text/plain": [
       "tensor([[0, 3],\n",
       "        [1, 4],\n",
       "        [2, 5]])"
      ]
     },
     "metadata": {},
     "execution_count": 78
    }
   ],
   "metadata": {}
  },
  {
   "cell_type": "code",
   "execution_count": 79,
   "source": [
    "# 单纯地改变图片的形状\r\n",
    "# 注意和上面的区别，结果仍然是连续的\r\n",
    "mask.view(3,2)"
   ],
   "outputs": [
    {
     "output_type": "execute_result",
     "data": {
      "text/plain": [
       "tensor([[0, 1],\n",
       "        [2, 3],\n",
       "        [4, 5]])"
      ]
     },
     "metadata": {},
     "execution_count": 79
    }
   ],
   "metadata": {}
  },
  {
   "cell_type": "code",
   "execution_count": 80,
   "source": [
    "# PyTorch等深度学习框架中图片一般存储为3xHxW\r\n",
    "img_3xHxW = t.randn(3,128,256) \r\n",
    "\r\n",
    "# 而在OpenCV/NumPy/skimage 中，图片一般存储为HxWx3\r\n",
    "# img_3xHxW的形状为shape=[3,H,W],经过permute(1,2,0)得到的形状为:\r\n",
    "# [shape[1], shape[2], shape[0]] = [H, W, 3]\r\n",
    "img_HxWx3 = img_3xHxW.permute(1,2,0)\r\n",
    "\r\n",
    "img_HxWx3.is_contiguous()"
   ],
   "outputs": [
    {
     "output_type": "execute_result",
     "data": {
      "text/plain": [
       "False"
      ]
     },
     "metadata": {},
     "execution_count": 80
    }
   ],
   "metadata": {}
  },
  {
   "cell_type": "code",
   "execution_count": 81,
   "source": [
    "img_HxWx3.reshape(-1) # .view 会报错，因为img_HxWx3不连续"
   ],
   "outputs": [
    {
     "output_type": "execute_result",
     "data": {
      "text/plain": [
       "tensor([ 0.4553,  1.0848, -1.9221,  ..., -0.6087,  0.2638, -0.0149])"
      ]
     },
     "metadata": {},
     "execution_count": 81
    }
   ],
   "metadata": {}
  },
  {
   "cell_type": "markdown",
   "source": [
    "一个用来区分什么时候用`tensor.reshape`还是`tensor.transpose`的小技巧：如果输出Tensor的数据排列和输入一样就是用`tensor.reshape`，否则应该使用`tensor.transpose`。"
   ],
   "metadata": {}
  },
  {
   "cell_type": "code",
   "execution_count": 82,
   "source": [
    "H, W = 4, 5\r\n",
    "img_3xHxW = t.randn(3, H, W)\r\n",
    "\r\n",
    "# 目标数据排列和输入一样，直接使用reshape\r\n",
    "img_3xHW = img_3xHxW.reshape(3, -1)\r\n",
    "\r\n",
    "# 目标数据排列和输入不一样，先通过transpose变成(3,W,H), 再变成(3,WH)\r\n",
    "img_3xWH = img_3xHxW.transpose(1, 2).reshape(3, -1)\r\n",
    "\r\n",
    "# 再变形为3xWxH的形式\r\n",
    "img_3xWxH = img_3xWH.reshape(3, W, H)"
   ],
   "outputs": [],
   "metadata": {}
  },
  {
   "cell_type": "markdown",
   "source": [
    "## 3.3 小试牛刀：线性回归\n",
    "\n",
    "线性回归是机器学习的入门知识，应用十分广泛。线性回归利用数理统计中的回归分析来确定两种或两种以上变量间相互依赖的定量关系，其表达形式为$y = wx+b+e$，误差$e$服从均值为0的正态分布。线性回归的损失函数是：\n",
    "$$\n",
    "loss = \\sum_i^N \\frac 1 2 ({y_i-(wx_i+b)})^2\n",
    "$$\n",
    "我们可以利用随机梯度下降法更新参数$\\textbf{w}$和$\\textbf{b}$来最小化损失函数，最终学得$\\textbf{w}$和$\\textbf{b}$的数值。"
   ],
   "metadata": {}
  },
  {
   "cell_type": "code",
   "execution_count": 83,
   "source": [
    "import torch as t\r\n",
    "%matplotlib inline\r\n",
    "from matplotlib import pyplot as plt\r\n",
    "from IPython import display\r\n",
    "\r\n",
    "device = t.device('cpu') #如果你想用GPU，改成t.device('cuda:0')"
   ],
   "outputs": [],
   "metadata": {}
  },
  {
   "cell_type": "code",
   "execution_count": 84,
   "source": [
    "# 设置随机数种子，保证在不同电脑上运行时下面的输出一致\r\n",
    "t.manual_seed(1000) \r\n",
    "\r\n",
    "def get_fake_data(batch_size=8):\r\n",
    "    ''' 产生随机数据：y=x*2+3，加上了一些噪声'''\r\n",
    "    x = t.rand(batch_size, 1, device=device) * 5\r\n",
    "    y = x * 2 + 3 +  t.randn(batch_size, 1, device=device)\r\n",
    "    return x, y"
   ],
   "outputs": [],
   "metadata": {}
  },
  {
   "cell_type": "code",
   "execution_count": 85,
   "source": [
    "# 来看看产生的x-y分布\r\n",
    "x, y = get_fake_data(batch_size=16)\r\n",
    "plt.scatter(x.squeeze().cpu().numpy(), y.squeeze().cpu().numpy())"
   ],
   "outputs": [
    {
     "output_type": "execute_result",
     "data": {
      "text/plain": [
       "<matplotlib.collections.PathCollection at 0x7fcd24179c88>"
      ]
     },
     "metadata": {},
     "execution_count": 85
    },
    {
     "output_type": "display_data",
     "data": {
      "text/plain": [
       "<Figure size 432x288 with 1 Axes>"
      ],
      "image/png": "[encoded data removed]"
     },
     "metadata": {
      "needs_background": "light"
     }
    }
   ],
   "metadata": {}
  },
  {
   "cell_type": "code",
   "execution_count": 86,
   "source": [
    "# 随机初始化参数\r\n",
    "w = t.rand(1, 1).to(device)\r\n",
    "b = t.zeros(1, 1).to(device)\r\n",
    "\r\n",
    "lr =0.02 # 学习率learning rate\r\n",
    "\r\n",
    "for ii in range(500):\r\n",
    "    x, y = get_fake_data(batch_size=4)\r\n",
    "    \r\n",
    "    # forward：计算loss\r\n",
    "    y_pred = x.mm(w) + b.expand_as(y) #expand_as用到了广播法则，将在第六章详析介绍\r\n",
    "    loss = 0.5 * (y_pred - y) ** 2 # 均方误差\r\n",
    "    loss = loss.mean()\r\n",
    "    \r\n",
    "    # backward：手动计算梯度\r\n",
    "    dloss = 1\r\n",
    "    dy_pred = dloss * (y_pred - y)\r\n",
    "    \r\n",
    "    dw = x.t().mm(dy_pred)\r\n",
    "    db = dy_pred.sum()\r\n",
    "    \r\n",
    "    # 更新参数\r\n",
    "    w.sub_(lr * dw) # inplace修改\r\n",
    "    b.sub_(lr * db)\r\n",
    "    \r\n",
    "    if ii%50 ==0:\r\n",
    "        # 画图\r\n",
    "        display.clear_output(wait=True)\r\n",
    "        x = t.arange(0, 6).float().view(-1, 1)\r\n",
    "        print(x.type(), w.type())\r\n",
    "        y = x.mm(w) + b.expand_as(x)\r\n",
    "        plt.plot(x.cpu().numpy(), y.cpu().numpy()) # predicted\r\n",
    "        \r\n",
    "        x2, y2 = get_fake_data(batch_size=32) \r\n",
    "        plt.scatter(x2.numpy(), y2.numpy()) # true data\r\n",
    "        \r\n",
    "        plt.xlim(0, 5)\r\n",
    "        plt.ylim(0, 13)\r\n",
    "        plt.show()\r\n",
    "        plt.pause(0.5)\r\n",
    "        \r\n",
    "print('w: ', w.item(), 'b: ', b.item())"
   ],
   "outputs": [
    {
     "output_type": "stream",
     "name": "stdout",
     "text": [
      "torch.FloatTensor torch.FloatTensor\n"
     ]
    },
    {
     "output_type": "display_data",
     "data": {
      "text/plain": [
       "<Figure size 432x288 with 1 Axes>"
      ],
      "image/png": "[encoded data removed]"
     },
     "metadata": {
      "needs_background": "light"
     }
    },
    {
     "output_type": "stream",
     "name": "stdout",
     "text": [
      "w:  1.9115010499954224 b:  3.044184446334839\n"
     ]
    }
   ],
   "metadata": {}
  },
  {
   "cell_type": "markdown",
   "source": [
    "可见程序已经基本学出w=2、b=3，并且图中直线和数据已经实现较好的拟合。"
   ],
   "metadata": {}
  },
  {
   "cell_type": "markdown",
   "source": [
    "## 3.4 autograd和计算图基础\n",
    "\n",
    "在训练网络时使用Tensor非常方便，但从3.3节线性回归的例子来看，反向传播过程需要手动实现。这对于像线性回归等较为简单的模型，还比较容易，但在实际使用中经常出现非常复杂的网络结构，此时如果手动实现反向传播，不仅费时费力，而且容易出错，难以检查。`torch.autograd`就是为了方便用户使用，而专门开发的一套自动求导引擎，它能够根据输入和前向传播过程自动构建计算图，并执行反向传播。\n",
    "\n",
    "计算图(Computation Graph)是包括PyTorch和TensorFlow在内的许多现代深度学习框架的核心，它为自动求导算法——反向传播(Back Propogation)提供了计算基础，了解计算图在实际写程序过程中会有极大的帮助。本节将涉及一些基础的计算图知识，但并不要求读者事先对此有深入的了解。\n",
    "\n",
    "### 3.4.1 requires_grad\n",
    "\n",
    "PyTorch在autograd模块中实现了计算图的相关功能，autograd中的核心数据结构便是Tensor。当用户定义网络模型时，autograd会记录与网络相关的Tensor的所有操作，从而形成一个前向传播的有向无环图（DAG）。在这个图中，输入网络的Tensor会成为叶子节点，而网络输出的Tensor会成为根节点，autograd便可从根节点开始遍历，并对其中所有`requires_grad=True`的Tensor进行求导操作，这样逐层遍历至叶子节点时，便可通过链式操作计算梯度，从而自动完成了反向传播操作。autograd中核心的反向传播函数如下：\n",
    "\n",
    "`torch.autograd.backward(tensors,grad_tensors=None,retain_graph=None,create_graph=False)`\n",
    "\n",
    "其中：\n",
    "- tensors：用于计算梯度的Tensor，如torch.autograd.backward(y)（等价于y.backward()）；\n",
    "- grad_tensors：形状与Tensor一致，对于`y.backward()`，grad_variables相当于链式法则${dz \\over dx}={dz \\over dy} \\times {dy \\over dx}$中的$\\textbf {dz} \\over \\textbf {dy}$。grad_variables也可以是tensor或序列。\n",
    "- retain_graph：反向传播需要缓存一些中间结果，反向传播之后，这些缓存就被清空，可通过指定这个参数不清空缓存，用来多次反向传播。\n",
    "- create_graph：对反向传播过程再次构建计算图，可通过`backward of backward`实现求高阶导数。\n",
    "\n",
    "下面举几个简单的例子来说明autograd如何使用。"
   ],
   "metadata": {}
  },
  {
   "cell_type": "code",
   "execution_count": 87,
   "source": [
    "from __future__ import print_function\r\n",
    "import torch as t\r\n",
    "# 下面两种写法等价\r\n",
    "a = t.randn(3,4, requires_grad=True)\r\n",
    "# a = t.randn(3, 4).requires_grad_()\r\n",
    "a.requires_grad"
   ],
   "outputs": [
    {
     "output_type": "execute_result",
     "data": {
      "text/plain": [
       "True"
      ]
     },
     "metadata": {},
     "execution_count": 87
    }
   ],
   "metadata": {}
  },
  {
   "cell_type": "code",
   "execution_count": 88,
   "source": [
    "# 也可以单独设置requires_grad\r\n",
    "a = t.randn(3, 4)\r\n",
    "a.requires_grad = True"
   ],
   "outputs": [],
   "metadata": {}
  },
  {
   "cell_type": "code",
   "execution_count": 89,
   "source": [
    "b = t.zeros(3,4).requires_grad_()\r\n",
    "c = (a + b).sum()\r\n",
    "c.backward()\r\n",
    "c"
   ],
   "outputs": [
    {
     "output_type": "execute_result",
     "data": {
      "text/plain": [
       "tensor(-1.6152, grad_fn=<SumBackward0>)"
      ]
     },
     "metadata": {},
     "execution_count": 89
    }
   ],
   "metadata": {}
  },
  {
   "cell_type": "code",
   "execution_count": 90,
   "source": [
    "a.grad"
   ],
   "outputs": [
    {
     "output_type": "execute_result",
     "data": {
      "text/plain": [
       "tensor([[1., 1., 1., 1.],\n",
       "        [1., 1., 1., 1.],\n",
       "        [1., 1., 1., 1.]])"
      ]
     },
     "metadata": {},
     "execution_count": 90
    }
   ],
   "metadata": {}
  },
  {
   "cell_type": "code",
   "execution_count": 91,
   "source": [
    "# 此处虽然没有指定c需要求导，但c依赖于a，而a需要求导，\r\n",
    "# 因此c的requires_grad属性会自动设为True\r\n",
    "a.requires_grad, b.requires_grad, c.requires_grad"
   ],
   "outputs": [
    {
     "output_type": "execute_result",
     "data": {
      "text/plain": [
       "(True, True, True)"
      ]
     },
     "metadata": {},
     "execution_count": 91
    }
   ],
   "metadata": {}
  },
  {
   "cell_type": "markdown",
   "source": [
    "#### Tensor的is_leaf属性\n",
    "\n",
    "对于计算图中的Tensor而言，只有当`is_leaf=True`时，其导数结果才会被保留下来，我们称这样的Tensor为Leaf Tensor，也就是计算图中的叶子节点。设计Leaf Tensor的初衷是为了节省内存/显存，因为通常情况下我们不会直接使用非叶子节点的梯度信息。下面给出Leaf Tensor的判断准则：\n",
    "\n",
    "- 当Tensor的requires_grad为False的时候，它就是Leaf Tensor；\n",
    "- 当Tensor的requires_grad为True，但是是由用户创建的时候，它也是Leaf Tensor。\n",
    "\n",
    "需要注意的是，Leaf Tensor的grad_fn属性为None。下面将举例说明Leaf Tensor的判断准则。"
   ],
   "metadata": {}
  },
  {
   "cell_type": "code",
   "execution_count": 92,
   "source": [
    "a.is_leaf, b.is_leaf, c.is_leaf"
   ],
   "outputs": [
    {
     "output_type": "execute_result",
     "data": {
      "text/plain": [
       "(True, True, False)"
      ]
     },
     "metadata": {},
     "execution_count": 92
    }
   ],
   "metadata": {}
  },
  {
   "cell_type": "code",
   "execution_count": 93,
   "source": [
    "a = t.rand(10, requires_grad=True)\r\n",
    "a.is_leaf"
   ],
   "outputs": [
    {
     "output_type": "execute_result",
     "data": {
      "text/plain": [
       "True"
      ]
     },
     "metadata": {},
     "execution_count": 93
    }
   ],
   "metadata": {}
  },
  {
   "cell_type": "code",
   "execution_count": 94,
   "source": [
    "# 接下来几个测试是在有GPU的环境下进行的\r\n",
    "b = t.rand(10, requires_grad=True).cuda(0)\r\n",
    "b.is_leaf # b是由CPU上的Tensor转换为cuda上的Tensor创建的，所以不是Leaf Tensor"
   ],
   "outputs": [
    {
     "output_type": "execute_result",
     "data": {
      "text/plain": [
       "False"
      ]
     },
     "metadata": {},
     "execution_count": 94
    }
   ],
   "metadata": {}
  },
  {
   "cell_type": "code",
   "execution_count": 95,
   "source": [
    "c = t.rand(10, requires_grad=True) + 2\r\n",
    "c.is_leaf"
   ],
   "outputs": [
    {
     "output_type": "execute_result",
     "data": {
      "text/plain": [
       "False"
      ]
     },
     "metadata": {},
     "execution_count": 95
    }
   ],
   "metadata": {}
  },
  {
   "cell_type": "code",
   "execution_count": 96,
   "source": [
    "d = t.rand(10).cuda(0)\r\n",
    "print(d.requires_grad) # False\r\n",
    "print(d.is_leaf) # 除了创建外没有其他操作（由autograd实现的）"
   ],
   "outputs": [
    {
     "output_type": "stream",
     "name": "stdout",
     "text": [
      "False\n",
      "True\n"
     ]
    }
   ],
   "metadata": {}
  },
  {
   "cell_type": "code",
   "execution_count": 97,
   "source": [
    "e = t.rand(10).cuda(0).requires_grad_()\r\n",
    "e.is_leaf # 同样的，在创建e的时候没有额外的操作"
   ],
   "outputs": [
    {
     "output_type": "execute_result",
     "data": {
      "text/plain": [
       "True"
      ]
     },
     "metadata": {},
     "execution_count": 97
    }
   ],
   "metadata": {}
  },
  {
   "cell_type": "markdown",
   "source": [
    "接着我们来看看autograd计算的导数和我们手动推导的导数的区别：\n",
    "$$\n",
    "y = x^2\\bullet e^x\n",
    "$$\n",
    "它的导函数是：\n",
    "$$\n",
    "{dy \\over dx} = 2x\\bullet e^x + x^2 \\bullet e^x\n",
    "$$"
   ],
   "metadata": {}
  },
  {
   "cell_type": "code",
   "execution_count": 98,
   "source": [
    "def f(x):\r\n",
    "    '''计算y'''\r\n",
    "    y = x**2 * t.exp(x)\r\n",
    "    return y\r\n",
    "\r\n",
    "def gradf(x):\r\n",
    "    '''手动求导函数'''\r\n",
    "    dx = 2*x*t.exp(x) + x**2*t.exp(x)\r\n",
    "    return dx"
   ],
   "outputs": [],
   "metadata": {}
  },
  {
   "cell_type": "code",
   "execution_count": 99,
   "source": [
    "x = t.randn(3,4, requires_grad = True)\r\n",
    "y = f(x)\r\n",
    "y"
   ],
   "outputs": [
    {
     "output_type": "execute_result",
     "data": {
      "text/plain": [
       "tensor([[0.0109, 0.2316, 0.8111, 7.1278],\n",
       "        [0.4126, 0.5035, 0.5146, 0.9632],\n",
       "        [0.5159, 1.0523, 0.0118, 0.3755]], grad_fn=<MulBackward0>)"
      ]
     },
     "metadata": {},
     "execution_count": 99
    }
   ],
   "metadata": {}
  },
  {
   "cell_type": "code",
   "execution_count": 100,
   "source": [
    "y.backward(t.ones(y.size())) # gradient形状与y一致\r\n",
    "x.grad"
   ],
   "outputs": [
    {
     "output_type": "execute_result",
     "data": {
      "text/plain": [
       "tensor([[ 0.2308, -0.4555,  3.3047, 17.6441],\n",
       "        [-0.3174, -0.1639, -0.1357,  3.7401],\n",
       "        [-0.1319,  3.9884,  0.2404, -0.3601]])"
      ]
     },
     "metadata": {},
     "execution_count": 100
    }
   ],
   "metadata": {}
  },
  {
   "cell_type": "code",
   "execution_count": 101,
   "source": [
    "# autograd的计算结果与利用公式手动计算的结果一致\r\n",
    "gradf(x) "
   ],
   "outputs": [
    {
     "output_type": "execute_result",
     "data": {
      "text/plain": [
       "tensor([[ 0.2308, -0.4555,  3.3047, 17.6441],\n",
       "        [-0.3174, -0.1639, -0.1357,  3.7401],\n",
       "        [-0.1319,  3.9884,  0.2404, -0.3601]], grad_fn=<AddBackward0>)"
      ]
     },
     "metadata": {},
     "execution_count": 101
    }
   ],
   "metadata": {}
  },
  {
   "cell_type": "markdown",
   "source": [
    "### 3.4.2 计算图\r\n",
    "\r\n",
    "PyTorch中`autograd`的底层采用了计算图，计算图是一种特殊的有向无环图（DAG），用于记录算子与变量之间的关系。一般用矩形表示算子，椭圆形表示变量。如表达式$ \\textbf {z = wx + b}$可分解为$\\textbf{y = wx}$和$\\textbf{z = y + b}$，其计算图如图3-2所示，图中`MUL`，`ADD`都是算子，$\\textbf{w}$，$\\textbf{x}$，$\\textbf{b}$即变量。\r\n",
    "\r\n",
    "![图3-2:computation graph](imgs/com_graph.png)"
   ],
   "metadata": {}
  },
  {
   "cell_type": "markdown",
   "source": [
    "如上有向无环图中，$\\textbf{X}$和$\\textbf{b}$是叶子节点，这些节点通常由用户自己创建，不依赖于其他变量。$\\textbf{z}$称为根节点，是计算图的最终目标。利用链式法则很容易求得各个叶子节点的梯度。\r\n",
    "$${\\partial z \\over \\partial b} = 1,\\space {\\partial z \\over \\partial y} = 1\\\\\r\n",
    "{\\partial y \\over \\partial w }= x,{\\partial y \\over \\partial x}= w\\\\\r\n",
    "{\\partial z \\over \\partial x}= {\\partial z \\over \\partial y} {\\partial y \\over \\partial x}=1 * w\\\\\r\n",
    "{\\partial z \\over \\partial w}= {\\partial z \\over \\partial y} {\\partial y \\over \\partial w}=1 * x\\\\\r\n",
    "$$\r\n",
    "而有了计算图，上述链式求导即可利用计算图的反向传播自动完成，其过程如图3-3所示。\r\n",
    "\r\n",
    "![图3-3：计算图的反向传播](imgs/com_graph_backward.png)\r\n",
    "\r\n",
    "\r\n",
    "在PyTorch实现中，autograd会随着用户的操作，记录生成当前Tensor的所有操作，并由此建立一个有向无环图。用户每进行一个操作，相应的计算图就会发生改变。更底层的实现中，图中记录了操作`Function`，每一个变量在图中的位置可通过其`grad_fn`属性在图中的位置推测得到。在反向传播过程中，autograd沿着这个图从当前变量（根节点$\\textbf{z}$）溯源，可以利用链式求导法则计算所有叶子节点的梯度。每一个前向传播操作的函数都有与之对应的反向传播函数用来计算输入的各个Tensor的梯度，这些函数的函数名通常以`Backward`结尾。下面结合代码学习autograd的实现细节。"
   ],
   "metadata": {}
  },
  {
   "cell_type": "code",
   "execution_count": 102,
   "source": [
    "x = t.ones(1)\r\n",
    "b = t.rand(1, requires_grad = True)\r\n",
    "w = t.rand(1, requires_grad = True)\r\n",
    "y = w * x # 等价于y=w.mul(x)\r\n",
    "z = y + b # 等价于z=y.add(b)\r\n",
    "\r\n",
    "x.requires_grad, b.requires_grad, w.requires_grad"
   ],
   "outputs": [
    {
     "output_type": "execute_result",
     "data": {
      "text/plain": [
       "(False, True, True)"
      ]
     },
     "metadata": {},
     "execution_count": 102
    }
   ],
   "metadata": {}
  },
  {
   "cell_type": "code",
   "execution_count": 103,
   "source": [
    "# 虽然未指定y.requires_grad为True，但由于y依赖于需要求导的w\r\n",
    "# 故而y.requires_grad为True\r\n",
    "y.requires_grad"
   ],
   "outputs": [
    {
     "output_type": "execute_result",
     "data": {
      "text/plain": [
       "True"
      ]
     },
     "metadata": {},
     "execution_count": 103
    }
   ],
   "metadata": {}
  },
  {
   "cell_type": "code",
   "execution_count": 104,
   "source": [
    "# grad_fn可以查看这个Tensor的反向传播函数，\r\n",
    "# z是add函数的输出，所以它的反向传播函数是AddBackward\r\n",
    "z.grad_fn "
   ],
   "outputs": [
    {
     "output_type": "execute_result",
     "data": {
      "text/plain": [
       "<AddBackward0 at 0x7fcd240d3e80>"
      ]
     },
     "metadata": {},
     "execution_count": 104
    }
   ],
   "metadata": {}
  },
  {
   "cell_type": "code",
   "execution_count": 105,
   "source": [
    "# next_functions保存grad_fn的输入，是一个tuple，tuple的元素也是Function\r\n",
    "# 第一个是y，它是乘法(mul)的输出，所以对应的反向传播函数y.grad_fn是MulBackward\r\n",
    "# 第二个是b，它是叶子节点，由用户创建，grad_fn为None，但是有\r\n",
    "z.grad_fn.next_functions "
   ],
   "outputs": [
    {
     "output_type": "execute_result",
     "data": {
      "text/plain": [
       "((<MulBackward0 at 0x7fcd240d3f28>, 0),\n",
       " (<AccumulateGrad at 0x7fcd240d3f60>, 0))"
      ]
     },
     "metadata": {},
     "execution_count": 105
    }
   ],
   "metadata": {}
  },
  {
   "cell_type": "code",
   "execution_count": 106,
   "source": [
    "# 第一个是w，叶子节点，需要求导，梯度是累加的\r\n",
    "# 第二个是x，叶子节点，不需要求导，所以为None\r\n",
    "y.grad_fn.next_functions"
   ],
   "outputs": [
    {
     "output_type": "execute_result",
     "data": {
      "text/plain": [
       "((<AccumulateGrad at 0x7fcd240d3da0>, 0), (None, 0))"
      ]
     },
     "metadata": {},
     "execution_count": 106
    }
   ],
   "metadata": {}
  },
  {
   "cell_type": "code",
   "execution_count": 107,
   "source": [
    "# 叶子节点的grad_fn是None\r\n",
    "w.grad_fn,x.grad_fn"
   ],
   "outputs": [
    {
     "output_type": "execute_result",
     "data": {
      "text/plain": [
       "(None, None)"
      ]
     },
     "metadata": {},
     "execution_count": 107
    }
   ],
   "metadata": {}
  },
  {
   "cell_type": "markdown",
   "source": [
    "计算w的梯度的时候，需要用到x的数值(${\\partial y\\over \\partial w} = x $)，这些数值在前向过程中会保存成buffer，在计算完梯度之后会自动清空。为了能够多次反向传播需要指定`retain_graph`来保留这些buffer。"
   ],
   "metadata": {}
  },
  {
   "cell_type": "code",
   "execution_count": 108,
   "source": [
    "# 使用retain_graph来保存buffer\r\n",
    "z.backward(retain_graph=True)\r\n",
    "w.grad"
   ],
   "outputs": [
    {
     "output_type": "execute_result",
     "data": {
      "text/plain": [
       "tensor([1.])"
      ]
     },
     "metadata": {},
     "execution_count": 108
    }
   ],
   "metadata": {}
  },
  {
   "cell_type": "code",
   "execution_count": 109,
   "source": [
    "# 多次反向传播，梯度累加，这也就是w中AccumulateGrad标识的含义\n",
    "z.backward()\n",
    "w.grad"
   ],
   "outputs": [
    {
     "output_type": "execute_result",
     "data": {
      "text/plain": [
       "tensor([2.])"
      ]
     },
     "metadata": {},
     "execution_count": 109
    }
   ],
   "metadata": {}
  },
  {
   "cell_type": "markdown",
   "source": [
    "PyTorch使用的是动态图，它的计算图在每次前向传播时都是从头开始构建，所以它能够使用Python控制语句（如for、if等）根据需求创建计算图。这点在自然语言处理领域中很有用，它意味着你不需要事先构建所有可能用到的图的路径，图在运行时才构建。"
   ],
   "metadata": {}
  },
  {
   "cell_type": "code",
   "execution_count": 110,
   "source": [
    "def abs(x):\n",
    "    if x.data[0]>0: return x\n",
    "    else: return -x\n",
    "x = t.ones(1,requires_grad=True)\n",
    "y = abs(x)\n",
    "y.backward()\n",
    "x.grad"
   ],
   "outputs": [
    {
     "output_type": "execute_result",
     "data": {
      "text/plain": [
       "tensor([1.])"
      ]
     },
     "metadata": {},
     "execution_count": 110
    }
   ],
   "metadata": {}
  },
  {
   "cell_type": "code",
   "execution_count": 111,
   "source": [
    "def f(x):\n",
    "    result = 1\n",
    "    for ii in x:\n",
    "        if ii.item()>0: result=ii*result\n",
    "    return result\n",
    "x = t.arange(-2,4).float().requires_grad_()\n",
    "y = f(x) # y = x[3]*x[4]*x[5]\n",
    "y.backward()\n",
    "x.grad"
   ],
   "outputs": [
    {
     "output_type": "execute_result",
     "data": {
      "text/plain": [
       "tensor([0., 0., 0., 6., 3., 2.])"
      ]
     },
     "metadata": {},
     "execution_count": 111
    }
   ],
   "metadata": {}
  },
  {
   "cell_type": "markdown",
   "source": [
    "变量的`requires_grad`属性默认为False，如果某一个节点`requires_grad`被设置为True，那么所有依赖它的节点`requires_grad`都是True。这其实很好理解，对于$ \\textbf{x}\\to \\textbf{y} \\to \\textbf{z}$，x.requires_grad = True，当需要计算$\\partial z \\over \\partial x$时，根据链式法则，$\\frac{\\partial z}{\\partial x} = \\frac{\\partial z}{\\partial y} \\frac{\\partial y}{\\partial x}$，自然也需要求$ \\frac{\\partial z}{\\partial y}$，所以`y.requires_grad`会被自动标为True. \n",
    "\n",
    "\n",
    "\n",
    "有些时候我们可能不希望autograd对Tensor求导。认为求导需要缓存许多中间结构，增加额外的内存/显存开销，那么我们可以关闭自动求导。对于不需要反向传播的情景（如inference，即测试推理时），关闭自动求导可实现一定程度的速度提升，并节省约一半显存，因其不需要分配空间计算梯度。"
   ],
   "metadata": {}
  },
  {
   "cell_type": "code",
   "execution_count": 112,
   "source": [
    "x = t.ones(1, requires_grad=True)\n",
    "w = t.rand(1, requires_grad=True)\n",
    "y = x * w\n",
    "# y依赖于w，而w.requires_grad = True\n",
    "x.requires_grad, w.requires_grad, y.requires_grad"
   ],
   "outputs": [
    {
     "output_type": "execute_result",
     "data": {
      "text/plain": [
       "(True, True, True)"
      ]
     },
     "metadata": {},
     "execution_count": 112
    }
   ],
   "metadata": {}
  },
  {
   "cell_type": "code",
   "execution_count": 113,
   "source": [
    "with t.no_grad():\n",
    "    x = t.ones(1)\n",
    "    w = t.rand(1, requires_grad = True)\n",
    "    y = x * w\n",
    "# y依赖于w和x，虽然w.requires_grad = True，但是y的requires_grad依旧为False\n",
    "x.requires_grad, w.requires_grad, y.requires_grad"
   ],
   "outputs": [
    {
     "output_type": "execute_result",
     "data": {
      "text/plain": [
       "(False, True, False)"
      ]
     },
     "metadata": {},
     "execution_count": 113
    }
   ],
   "metadata": {}
  },
  {
   "cell_type": "code",
   "execution_count": 114,
   "source": [
    "t.set_grad_enabled(False) # 更改了默认设置\n",
    "x = t.ones(1)\n",
    "w = t.rand(1, requires_grad = True)\n",
    "y = x * w\n",
    "# y依赖于w和x，虽然w.requires_grad = True，但是y的requires_grad依旧为False\n",
    "x.requires_grad, w.requires_grad, y.requires_grad"
   ],
   "outputs": [
    {
     "output_type": "execute_result",
     "data": {
      "text/plain": [
       "(False, True, False)"
      ]
     },
     "metadata": {},
     "execution_count": 114
    }
   ],
   "metadata": {}
  },
  {
   "cell_type": "code",
   "execution_count": 115,
   "source": [
    "# 恢复默认配置\n",
    "t.set_grad_enabled(True)"
   ],
   "outputs": [
    {
     "output_type": "execute_result",
     "data": {
      "text/plain": [
       "<torch.autograd.grad_mode.set_grad_enabled at 0x7fcd240d62e8>"
      ]
     },
     "metadata": {},
     "execution_count": 115
    }
   ],
   "metadata": {}
  },
  {
   "cell_type": "markdown",
   "source": [
    "如果我们想要修改Tensor的数值，但是又不希望被autograd记录，那么我们可以对tensor.data进行操作。"
   ],
   "metadata": {}
  },
  {
   "cell_type": "code",
   "execution_count": 116,
   "source": [
    "a = t.ones(3,4,requires_grad=True)\n",
    "b = t.ones(3,4,requires_grad=True)\n",
    "c = a * b\n",
    "\n",
    "a.data # 还是一个Tensor"
   ],
   "outputs": [
    {
     "output_type": "execute_result",
     "data": {
      "text/plain": [
       "tensor([[1., 1., 1., 1.],\n",
       "        [1., 1., 1., 1.],\n",
       "        [1., 1., 1., 1.]])"
      ]
     },
     "metadata": {},
     "execution_count": 116
    }
   ],
   "metadata": {}
  },
  {
   "cell_type": "code",
   "execution_count": 117,
   "source": [
    "a.data.requires_grad # 已经独立于计算图之外了"
   ],
   "outputs": [
    {
     "output_type": "execute_result",
     "data": {
      "text/plain": [
       "False"
      ]
     },
     "metadata": {},
     "execution_count": 117
    }
   ],
   "metadata": {}
  },
  {
   "cell_type": "markdown",
   "source": [
    "在反向传播过程中非叶子节点的导数计算完之后即被清空。若想查看这些变量的梯度，有两种方法：\n",
    "- 使用autograd.grad函数；\n",
    "- 使用hook。\n",
    "\n",
    "`autograd.grad`和`hook`方法都是很强大的工具，更详细的用法参考官方api文档，这里仅举例说明基础的使用方法。笔者推荐使用`hook`方法，但是在实际使用中应尽量避免修改grad的值。"
   ],
   "metadata": {}
  },
  {
   "cell_type": "code",
   "execution_count": 118,
   "source": [
    "x = t.ones(3, requires_grad=True)\n",
    "w = t.rand(3, requires_grad=True)\n",
    "y = x * w\n",
    "# y依赖于w，而w.requires_grad = True\n",
    "z = y.sum()\n",
    "x.requires_grad, w.requires_grad, y.requires_grad"
   ],
   "outputs": [
    {
     "output_type": "execute_result",
     "data": {
      "text/plain": [
       "(True, True, True)"
      ]
     },
     "metadata": {},
     "execution_count": 118
    }
   ],
   "metadata": {}
  },
  {
   "cell_type": "code",
   "execution_count": 119,
   "source": [
    "# 非叶子节点grad计算完之后自动清空，y.grad是None\n",
    "z.backward()\n",
    "(x.grad, w.grad, y.grad)"
   ],
   "outputs": [
    {
     "output_type": "execute_result",
     "data": {
      "text/plain": [
       "(tensor([0.8637, 0.1238, 0.0123]), tensor([1., 1., 1.]), None)"
      ]
     },
     "metadata": {},
     "execution_count": 119
    }
   ],
   "metadata": {}
  },
  {
   "cell_type": "code",
   "execution_count": 120,
   "source": [
    "# 第一种方法：使用grad获取中间变量的梯度\n",
    "x = t.ones(3, requires_grad=True)\n",
    "w = t.rand(3, requires_grad=True)\n",
    "y = x * w\n",
    "z = y.sum()\n",
    "# z对y的梯度，隐式调用backward()\n",
    "t.autograd.grad(z, y)"
   ],
   "outputs": [
    {
     "output_type": "execute_result",
     "data": {
      "text/plain": [
       "(tensor([1., 1., 1.]),)"
      ]
     },
     "metadata": {},
     "execution_count": 120
    }
   ],
   "metadata": {}
  },
  {
   "cell_type": "code",
   "execution_count": 121,
   "source": [
    "# 第二种方法：使用hook\n",
    "# hook是一个函数，输入是梯度，不应该有返回值\n",
    "def variable_hook(grad):\n",
    "    print('y的梯度：',grad)\n",
    "\n",
    "x = t.ones(3, requires_grad=True)\n",
    "w = t.rand(3, requires_grad=True)\n",
    "y = x * w\n",
    "# 注册hook\n",
    "hook_handle = y.register_hook(variable_hook)\n",
    "z = y.sum()\n",
    "z.backward()\n",
    "\n",
    "# 除非你每次都要用hook，否则用完之后记得移除hook\n",
    "hook_handle.remove()"
   ],
   "outputs": [
    {
     "output_type": "stream",
     "name": "stdout",
     "text": [
      "y的梯度： tensor([1., 1., 1.])\n"
     ]
    }
   ],
   "metadata": {}
  },
  {
   "cell_type": "markdown",
   "source": [
    "在PyTorch中计算图的特点可总结如下：\n",
    "\n",
    "- autograd根据用户对Tesnor的操作构建计算图。对Tensor的操作抽象为`Function`；\n",
    "- 由用户创建的节点称为叶子节点，叶子节点的`grad_fn`为None。叶子节点中需要求导的Tesnor，具有`AccumulateGrad`标识，因其梯度是累加的；\n",
    "- Tensor默认是不需要求导的，即`requires_grad`属性默认为False，如果某一个节点requires_grad被设置为True，那么所有依赖它的节点`requires_grad`都为True；\n",
    "- 多次反向传播时，梯度是累加的。反向传播的中间缓存会被清空，为进行多次反向传播需指定`retain_graph=True`来保存这些缓存；\n",
    "- 非叶子节点的梯度计算完之后即被清空，可以使用`autograd.grad`或`hook`技术获取非叶子节点梯度的值；\n",
    "- Tensor的grad与data形状一致，应避免直接修改tensor.data，因为对data的直接操作无法利用autograd进行反向传播；\n",
    "- PyTorch采用动态图设计，可以很方便地查看中间层的输出，动态地设计计算图结构。；\n",
    "\n",
    "如果读者还并不太明白以上内容，也不用担心，因为在大多数情况下这并不影响读者对PyTorch的一般使用，但是掌握这些内容有助于更好地理解PyTorch，并有效地避开很多陷阱。"
   ],
   "metadata": {}
  },
  {
   "cell_type": "markdown",
   "source": [
    "### 3.4.3 扩展autograd\n",
    "\n",
    "\n",
    "目前，绝大多数函数都可以使用autograd进行反向求导，但如果需要自己写一个复杂的函数，但并不支持自动反向求导怎么办? 答案是写一个`Function`，实现它的前向传播和反向传播代码，`Function`对应于计算图中的矩形，它接收参数，计算并返回结果。下面给出一个例子。\n",
    "\n",
    "```python\n",
    "\n",
    "class Mul(Function):                                                     \n",
    "    @staticmethod\n",
    "    def forward(ctx, weight, x, bias, x_requires_grad = True):\n",
    "        ctx.x_requires_grad = x_requires_grad\n",
    "        ctx.save_for_backward(weight, x)\n",
    "        output = weight * x + bias\n",
    "        return output\n",
    "        \n",
    "    @staticmethod\n",
    "    def backward(ctx, grad_output):\n",
    "        weight, x = ctx.saved_tensors\n",
    "        grad_weight = grad_output * x\n",
    "        if ctx.x_requires_grad:\n",
    "            grad_x = grad_output * weight\n",
    "        else:\n",
    "            grad_x = None\n",
    "        grad_bias = grad_output * 1\n",
    "        return grad_weight, grad_x, grad_bias, None\n",
    "```\n",
    "\n",
    "分析如下：\n",
    "\n",
    "- 自定义的Function需要继承autograd.Function，没有构造函数`__init__`，forward和backward函数都是静态方法；\n",
    "- backward函数的输出和forward函数的输入一一对应，backward函数的输入和forward函数的输出一一对应；\n",
    "- 如果某一个输入不需要求导，直接返回None，如forward中的输入参数x_requires_grad显然无法对它求导，直接返回None即可；\n",
    "- 反向传播可能需要利用前向传播的某些中间结果，需要进行保存，否则前向传播结束后这些对象即被释放。\n",
    "\n",
    "读者可通过Function.apply(tensor)调用已经实现的Function。"
   ],
   "metadata": {}
  },
  {
   "cell_type": "code",
   "execution_count": 122,
   "source": [
    "from torch.autograd import Function\n",
    "class MultiplyAdd(Function):\n",
    "                                                            \n",
    "    @staticmethod\n",
    "    def forward(ctx, w, x, b):                              \n",
    "        ctx.save_for_backward(w,x)\n",
    "        output = w * x + b\n",
    "        return output\n",
    "        \n",
    "    @staticmethod\n",
    "    def backward(ctx, grad_output):                         \n",
    "        w,x = ctx.saved_tensors\n",
    "        grad_w = grad_output * x\n",
    "        grad_x = grad_output * w\n",
    "        grad_b = grad_output * 1\n",
    "        return grad_w, grad_x, grad_b  "
   ],
   "outputs": [],
   "metadata": {}
  },
  {
   "cell_type": "code",
   "execution_count": 123,
   "source": [
    "x = t.ones(1)\n",
    "w = t.rand(1, requires_grad = True)\n",
    "b = t.rand(1, requires_grad = True)\n",
    "# 开始前向传播\n",
    "z = MultiplyAdd.apply(w, x, b)\n",
    "# 开始反向传播\n",
    "z.backward()\n",
    "\n",
    "# x不需要求导，中间过程还是会计算它的导数，但随后被清空\n",
    "x.grad, w.grad, b.grad"
   ],
   "outputs": [
    {
     "output_type": "execute_result",
     "data": {
      "text/plain": [
       "(None, tensor([1.]), tensor([1.]))"
      ]
     },
     "metadata": {},
     "execution_count": 123
    }
   ],
   "metadata": {}
  },
  {
   "cell_type": "code",
   "execution_count": 124,
   "source": [
    "x = t.ones(1)\n",
    "w = t.rand(1, requires_grad = True)\n",
    "b = t.rand(1, requires_grad = True)\n",
    "#print('开始前向传播')\n",
    "z = MultiplyAdd.apply(w,x,b)\n",
    "#print('开始反向传播')\n",
    "\n",
    "# 调用MultiplyAdd.backward\n",
    "# 输出grad_w, grad_x, grad_b\n",
    "print(z.grad_fn)\n",
    "z.grad_fn.apply(t.ones(1))"
   ],
   "outputs": [
    {
     "output_type": "stream",
     "name": "stdout",
     "text": [
      "<torch.autograd.function.MultiplyAddBackward object at 0x7fcd1fe14668>\n"
     ]
    },
    {
     "output_type": "execute_result",
     "data": {
      "text/plain": [
       "(tensor([1.]), tensor([0.3763], grad_fn=<MulBackward0>), tensor([1.]))"
      ]
     },
     "metadata": {},
     "execution_count": 124
    }
   ],
   "metadata": {}
  },
  {
   "cell_type": "markdown",
   "source": [
    "### 3.4.4 小试牛刀: 用autograd实现线性回归\n",
    "\n",
    "在3.3节中我们讲解了如何利用Tensor来实现线性回归，本节将讲解如何利用autograd实现线性回归，读者可以从中体会autograd的便捷之处。"
   ],
   "metadata": {}
  },
  {
   "cell_type": "code",
   "execution_count": 125,
   "source": [
    "import torch as t\n",
    "%matplotlib inline\n",
    "from matplotlib import pyplot as plt\n",
    "from IPython import display \n",
    "import numpy as np"
   ],
   "outputs": [],
   "metadata": {}
  },
  {
   "cell_type": "code",
   "execution_count": 126,
   "source": [
    "# 设置随机数种子，以保证结果可复现\n",
    "t.manual_seed(1000) \n",
    "\n",
    "def get_fake_data(batch_size=8):\n",
    "    ''' 产生随机数据：y = x * 2 + 3，加上了一些噪声'''\n",
    "    x = t.rand(batch_size,1) * 5\n",
    "    y = x * 2 + 3 + t.randn(batch_size, 1)\n",
    "    return x, y"
   ],
   "outputs": [],
   "metadata": {}
  },
  {
   "cell_type": "code",
   "execution_count": 127,
   "source": [
    "# 来看看产生x-y分布是什么样的\n",
    "x, y = get_fake_data()\n",
    "plt.scatter(x.squeeze().numpy(), y.squeeze().numpy())"
   ],
   "outputs": [
    {
     "output_type": "execute_result",
     "data": {
      "text/plain": [
       "<matplotlib.collections.PathCollection at 0x7fcd1c1ed3c8>"
      ]
     },
     "metadata": {},
     "execution_count": 127
    },
    {
     "output_type": "display_data",
     "data": {
      "text/plain": [
       "<Figure size 432x288 with 1 Axes>"
      ],
      "image/png": "[encoded data removed]"
     },
     "metadata": {
      "needs_background": "light"
     }
    }
   ],
   "metadata": {}
  },
  {
   "cell_type": "code",
   "execution_count": 128,
   "source": [
    "# 随机初始化参数\n",
    "w = t.rand(1,1, requires_grad=True)\n",
    "b = t.zeros(1,1, requires_grad=True)\n",
    "losses = np.zeros(500)\n",
    "\n",
    "lr =0.005 # 学习率\n",
    "\n",
    "for ii in range(500):\n",
    "    x, y = get_fake_data(batch_size=32)\n",
    "    \n",
    "    # forward：计算loss\n",
    "    y_pred = x.mm(w) + b.expand_as(y)\n",
    "    loss = 0.5 * (y_pred - y) ** 2\n",
    "    loss = loss.sum()\n",
    "    losses[ii] = loss.item()\n",
    "    \n",
    "    # backward：自动计算梯度\n",
    "    loss.backward()\n",
    "    \n",
    "    # 更新参数\n",
    "    w.data.sub_(lr * w.grad.data)\n",
    "    b.data.sub_(lr * b.grad.data)\n",
    "    \n",
    "    # 梯度清零\n",
    "    w.grad.data.zero_()\n",
    "    b.grad.data.zero_()\n",
    "    \n",
    "    if ii%50 ==0:\n",
    "        # 画图\n",
    "        display.clear_output(wait=True)\n",
    "        x = t.arange(0, 6).float().view(-1, 1)\n",
    "        y = x.mm(w.data) + b.data.expand_as(x)\n",
    "        plt.plot(x.numpy(), y.numpy()) # predicted\n",
    "        \n",
    "        x2, y2 = get_fake_data(batch_size=20) \n",
    "        plt.scatter(x2.numpy(), y2.numpy()) # true data\n",
    "        \n",
    "        plt.xlim(0,5)\n",
    "        plt.ylim(0,13)   \n",
    "        plt.show()\n",
    "        plt.pause(0.5)\n",
    "        \n",
    "print(w.item(), b.item())"
   ],
   "outputs": [
    {
     "output_type": "display_data",
     "data": {
      "text/plain": [
       "<Figure size 432x288 with 1 Axes>"
      ],
      "image/png": "[encoded data removed]"
     },
     "metadata": {
      "needs_background": "light"
     }
    },
    {
     "output_type": "stream",
     "name": "stdout",
     "text": [
      "2.026895761489868 2.9732823371887207\n"
     ]
    }
   ],
   "metadata": {}
  },
  {
   "cell_type": "code",
   "execution_count": 129,
   "source": [
    "plt.plot(losses)\n",
    "plt.ylim(5,50)"
   ],
   "outputs": [
    {
     "output_type": "execute_result",
     "data": {
      "text/plain": [
       "(5.0, 50.0)"
      ]
     },
     "metadata": {},
     "execution_count": 129
    },
    {
     "output_type": "display_data",
     "data": {
      "text/plain": [
       "<Figure size 432x288 with 1 Axes>"
      ],
      "image/png": "[encoded data removed]"
     },
     "metadata": {
      "needs_background": "light"
     }
    }
   ],
   "metadata": {}
  },
  {
   "cell_type": "markdown",
   "source": [
    "用autograd实现的线性回归最大的不同点就在于autograd不需要计算反向传播，可以自动计算微分。这点不单是在深度学习，在许多机器学习的问题中都很有用。另外需要注意的是在每次反向传播之前要记得先把梯度清零。"
   ],
   "metadata": {}
  },
  {
   "cell_type": "markdown",
   "source": [
    "## 本章小结\n",
    "\n",
    "本章主要介绍了PyTorch中的基础底层的数据结构Tensor和autograd方法。Tensor是一个类似Numpy数组的高效多维数值运算数据结构，有着和Numpy相类似的接口，并提供简单易用的GPU加速。`autograd`是PyTorch的自动微分引擎，采用动态计算图技术，能够快速高效的计算导数。"
   ],
   "metadata": {}
  }
 ],
 "metadata": {
  "kernelspec": {
   "display_name": "Python 3",
   "language": "python",
   "name": "python3"
  },
  "language_info": {
   "codemirror_mode": {
    "name": "ipython",
    "version": 3
   },
   "file_extension": ".py",
   "mimetype": "text/x-python",
   "name": "python",
   "nbconvert_exporter": "python",
   "pygments_lexer": "ipython3",
   "version": "3.7.3"
  }
 },
 "nbformat": 4,
 "nbformat_minor": 2
}